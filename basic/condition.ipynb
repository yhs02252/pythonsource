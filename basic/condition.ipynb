{
 "cells": [
  {
   "cell_type": "markdown",
   "metadata": {},
   "source": [
    "> 조건문\n",
    "> {} 을 사용하지 않고 tab 처리"
   ]
  },
  {
   "cell_type": "code",
   "execution_count": 25,
   "metadata": {},
   "outputs": [
    {
     "name": "stdout",
     "output_type": "stream",
     "text": [
      "True\n"
     ]
    }
   ],
   "source": [
    "if True:\n",
    "    print(\"True\")"
   ]
  },
  {
   "cell_type": "code",
   "execution_count": 26,
   "metadata": {},
   "outputs": [
    {
     "name": "stdout",
     "output_type": "stream",
     "text": [
      "a는 100과 200 사이에 있다\n"
     ]
    }
   ],
   "source": [
    "# a = 200\n",
    "# a는 100과 200사이에 있다\n",
    "a = 200\n",
    "if a >= 100 and a <= 200:\n",
    "    print(\"a는 100과 200 사이에 있다\")"
   ]
  },
  {
   "cell_type": "code",
   "execution_count": 27,
   "metadata": {},
   "outputs": [
    {
     "name": "stdout",
     "output_type": "stream",
     "text": [
      "a는 100과 200 사이에 있다\n"
     ]
    }
   ],
   "source": [
    "if 100 <= a <= 200:\n",
    "    print(\"a는 100과 200 사이에 있다\")"
   ]
  },
  {
   "cell_type": "code",
   "execution_count": 28,
   "metadata": {},
   "outputs": [
    {
     "name": "stdout",
     "output_type": "stream",
     "text": [
      "18\n"
     ]
    }
   ],
   "source": [
    "# 세 개의 숫자 중 가장 큰 수를 출력\n",
    "a,b,c = 12,6,18\n",
    "\n",
    "max = a\n",
    "if max < b:\n",
    "    max = b\n",
    "if max < c:\n",
    "    max = c\n",
    "        \n",
    "print(max)"
   ]
  },
  {
   "cell_type": "code",
   "execution_count": 29,
   "metadata": {},
   "outputs": [
    {
     "name": "stdout",
     "output_type": "stream",
     "text": [
      "a 는 100보다 작다\n"
     ]
    }
   ],
   "source": [
    "a = 55\n",
    "if a < 100 :\n",
    "    print(\"a 는 100보다 작다\")\n",
    "else:\n",
    "    print(\"a는 100보다 크다\")"
   ]
  },
  {
   "cell_type": "code",
   "execution_count": 32,
   "metadata": {},
   "outputs": [
    {
     "name": "stdout",
     "output_type": "stream",
     "text": [
      "a는 홀수 입니다\n"
     ]
    }
   ],
   "source": [
    "# 숫자 입력 받은 후 짝수, 홀수인지 출력하기\n",
    "\n",
    "a = int(input(\"숫자 입력 : \"))\n",
    "if a % 2 == 0 :\n",
    "    print(\"a는 짝수 입니다\")\n",
    "else :\n",
    "    print(\"a는 홀수 입니다\")"
   ]
  },
  {
   "cell_type": "code",
   "execution_count": 37,
   "metadata": {},
   "outputs": [
    {
     "name": "stdout",
     "output_type": "stream",
     "text": [
      "2024-12-20 12:57:32.575516\n",
      "2024년 12월 20일 12시 57분 32초\n",
      "오후\n"
     ]
    }
   ],
   "source": [
    "#  지금 현재 시간이 오전, 오후 출력\n",
    "# ※주피터 노트묵은 프린트를 안써도 출력 가능\n",
    "\n",
    "import datetime\n",
    "\n",
    "now = datetime.datetime.now()\n",
    "\n",
    "now\n",
    "print(now)\n",
    "print(\"{}년 {}월 {}일 {}시 {}분 {}초\".format(now.year, now.month,now.day, now.hour, now.minute, now.second))\n",
    "\n",
    "if now.hour < 12 :\n",
    "    print(\"오전\")\n",
    "else : \n",
    "    print(\"오후\")"
   ]
  },
  {
   "cell_type": "code",
   "execution_count": 38,
   "metadata": {},
   "outputs": [
    {
     "data": {
      "text/plain": [
       "'오후'"
      ]
     },
     "execution_count": 38,
     "metadata": {},
     "output_type": "execute_result"
    }
   ],
   "source": [
    "# 조건? 참 : 거짓 (삼항연산자 - 자바, 자바스크립트)\n",
    "# 파이썬 : 참 if 조건 else 거짓\n",
    "msg = \"오전\" if now.hour < 12 else \"오후\"\n",
    "msg"
   ]
  },
  {
   "cell_type": "code",
   "execution_count": 39,
   "metadata": {},
   "outputs": [
    {
     "name": "stdout",
     "output_type": "stream",
     "text": [
      "B 등급\n"
     ]
    }
   ],
   "source": [
    "# if ~ else if ~ else (자바, 자바스크립트)\n",
    "# if ~ elif ~ elif (파이썬)\n",
    "\n",
    "num = 85\n",
    "if num >= 90 :\n",
    "    print(\"A 등급\")\n",
    "elif num >= 80 : \n",
    "    print(\"B 등급\")\n",
    "elif num >= 70 : \n",
    "    print(\"C 등급\")\n",
    "elif num >= 60 : \n",
    "    print(\"D 등급\")\n",
    "else : \n",
    "    print(\"F 등급\")"
   ]
  },
  {
   "cell_type": "code",
   "execution_count": 44,
   "metadata": {},
   "outputs": [
    {
     "name": "stdout",
     "output_type": "stream",
     "text": [
      "A 등급\n"
     ]
    }
   ],
   "source": [
    "# 점수 입력 받은 후 점수에 맞는 등급 출력\n",
    "\n",
    "num = int(input(\"점수를 입력해 주세요 : \"))\n",
    "\n",
    "if num >= 90 :\n",
    "    print(\"A 등급\")\n",
    "elif num >= 80 : \n",
    "    print(\"B 등급\")\n",
    "elif num >= 70 : \n",
    "    print(\"C 등급\")\n",
    "elif num >= 60 : \n",
    "    print(\"D 등급\")\n",
    "else : \n",
    "    print(\"F 등급\")"
   ]
  },
  {
   "cell_type": "code",
   "execution_count": 53,
   "metadata": {},
   "outputs": [
    {
     "name": "stdout",
     "output_type": "stream",
     "text": [
      "5 * 15 = 75\n"
     ]
    }
   ],
   "source": [
    "# 숫자 2개 입력 받고, 연산자(+,-,*,/,//,**) 입력받기\n",
    "\n",
    "num1 = int(input(\"첫 번째 숫자 : \"))\n",
    "num2 = int(input(\"두 번째 숫자 : \"))\n",
    "oper = input(\"기호 입력 : \")\n",
    "if oper == \"+\" :\n",
    "    result = num1+num2\n",
    "elif oper == \"-\":\n",
    "    result = num1-num2\n",
    "elif oper == \"*\":\n",
    "    result = num1*num2\n",
    "elif oper == \"/\":\n",
    "    result = num1/num2\n",
    "elif oper == \"//\":\n",
    "    result = num1//num2\n",
    "elif oper == \"**\":\n",
    "    result = num1**num2\n",
    "else :\n",
    "    print(\"숫자 또는 기호를 확인해 주세요\")\n",
    "\n",
    "print(\"{} {} {} = {}\".format(num1,oper,num2,result))"
   ]
  }
 ],
 "metadata": {
  "kernelspec": {
   "display_name": "venv",
   "language": "python",
   "name": "python3"
  },
  "language_info": {
   "codemirror_mode": {
    "name": "ipython",
    "version": 3
   },
   "file_extension": ".py",
   "mimetype": "text/x-python",
   "name": "python",
   "nbconvert_exporter": "python",
   "pygments_lexer": "ipython3",
   "version": "3.13.1"
  }
 },
 "nbformat": 4,
 "nbformat_minor": 2
}
