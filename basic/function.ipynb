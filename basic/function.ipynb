{
 "cells": [
  {
   "cell_type": "markdown",
   "metadata": {},
   "source": [
    "### 함수\n",
    "```\n",
    "def 함수명():\n",
    "    함수가 해야할 일\n",
    "```"
   ]
  },
  {
   "cell_type": "code",
   "execution_count": 1,
   "metadata": {},
   "outputs": [],
   "source": [
    "def hello():\n",
    "    print(\"hello\")"
   ]
  },
  {
   "cell_type": "code",
   "execution_count": 2,
   "metadata": {},
   "outputs": [
    {
     "name": "stdout",
     "output_type": "stream",
     "text": [
      "hello\n"
     ]
    }
   ],
   "source": [
    "hello()"
   ]
  },
  {
   "cell_type": "code",
   "execution_count": 3,
   "metadata": {},
   "outputs": [
    {
     "data": {
      "text/plain": [
       "'hello'"
      ]
     },
     "execution_count": 3,
     "metadata": {},
     "output_type": "execute_result"
    }
   ],
   "source": [
    "def hello2():\n",
    "    return \"hello\"\n",
    "\n",
    "hello2()"
   ]
  },
  {
   "cell_type": "code",
   "execution_count": 4,
   "metadata": {},
   "outputs": [
    {
     "name": "stdout",
     "output_type": "stream",
     "text": [
      "3 + 4 = 7\n"
     ]
    }
   ],
   "source": [
    "def add(a, b):\n",
    "    return a + b\n",
    "\n",
    "print(f\"3 + 4 = {add(3,4)}\")"
   ]
  },
  {
   "cell_type": "code",
   "execution_count": 6,
   "metadata": {},
   "outputs": [
    {
     "name": "stdout",
     "output_type": "stream",
     "text": [
      "안녕하세요\n",
      "안녕하세요\n",
      "안녕하세요\n",
      "안녕하세요\n"
     ]
    }
   ],
   "source": [
    "# 기본 파라메터 : 인자에 기본값(변수값이 안 넘어오는 경우에 사용)을 주는 형태\n",
    "\n",
    "def print_n_times(value, n=2):\n",
    "    for i in range(n):\n",
    "        print(value)\n",
    "\n",
    "\n",
    "print_n_times(\"안녕하세요\",4)"
   ]
  },
  {
   "cell_type": "code",
   "execution_count": 7,
   "metadata": {},
   "outputs": [
    {
     "name": "stdout",
     "output_type": "stream",
     "text": [
      "()\n",
      "({'name': 'hong', 'age': 20},)\n",
      "(35, 24, 25, 63)\n",
      "('A', 'B', 'C', 'D')\n",
      "(['A', 'B', 'C', 'D'],)\n"
     ]
    }
   ],
   "source": [
    "# 가변 파라메터(파라메터의 개수가 정해져 있지 않음)\n",
    "def add_many(*args):\n",
    "    print(args)\n",
    "\n",
    "add_many()\n",
    "add_many({\"name\":\"hong\",\"age\":20})\n",
    "add_many(35,24,25,63)\n",
    "add_many(\"A\",\"B\",\"C\",\"D\")\n",
    "add_many([\"A\",\"B\",\"C\",\"D\"])"
   ]
  },
  {
   "cell_type": "code",
   "execution_count": 5,
   "metadata": {},
   "outputs": [],
   "source": [
    "def sum_mul(choice,*args):\n",
    "    if choice == \"mul\":\n",
    "        result = 1\n",
    "        for i in args:\n",
    "            result *= i\n",
    "\n",
    "    elif choice == \"add\":\n",
    "        result = 0\n",
    "        for i in args:\n",
    "            result += i\n",
    "    return result"
   ]
  },
  {
   "cell_type": "code",
   "execution_count": 6,
   "metadata": {},
   "outputs": [
    {
     "name": "stdout",
     "output_type": "stream",
     "text": [
      "덧셈 : 15\n",
      "덧셈 : 120\n"
     ]
    }
   ],
   "source": [
    "print(f\"덧셈 : {sum_mul(\"add\", 1,2,3,4,5)}\")\n",
    "print(f\"곱셉 : {sum_mul(\"mul\", 1,2,3,4,5)}\")"
   ]
  },
  {
   "cell_type": "code",
   "execution_count": 2,
   "metadata": {},
   "outputs": [],
   "source": [
    "# kwaargs : **kwargs (딕셔너리 형태로 처리)\n",
    "\n",
    "def args_func1(**kwargs):\n",
    "    print(\"kwargs\",kwargs)\n",
    "\n",
    "    for k in kwargs.keys():\n",
    "        print(k)\n",
    "\n",
    "    for k,v in kwargs.items():\n",
    "        print(k,v)"
   ]
  },
  {
   "cell_type": "code",
   "execution_count": 3,
   "metadata": {},
   "outputs": [
    {
     "name": "stdout",
     "output_type": "stream",
     "text": [
      "kwargs {'name': 'Park'}\n",
      "name\n",
      "name Park\n",
      "kwargs {'name1': 'Park', 'name2': 'Kim', 'active': True}\n",
      "name1\n",
      "name2\n",
      "active\n",
      "name1 Park\n",
      "name2 Kim\n",
      "active True\n",
      "kwargs {'name': 'Park', 'age': 10, 'title': 'Title'}\n",
      "name\n",
      "age\n",
      "title\n",
      "name Park\n",
      "age 10\n",
      "title Title\n",
      "kwargs {'name': 'Park', 'addr': 'seoul'}\n",
      "name\n",
      "addr\n",
      "name Park\n",
      "addr seoul\n",
      "kwargs {'name': 'Park', 'addr': 'seoul', 'tel': '01012345678'}\n",
      "name\n",
      "addr\n",
      "tel\n",
      "name Park\n",
      "addr seoul\n",
      "tel 01012345678\n"
     ]
    }
   ],
   "source": [
    "args_func1(name=\"Park\")\n",
    "args_func1(name1=\"Park\", name2 = \"Kim\", active = True)\n",
    "args_func1(name=\"Park\", age= 10, title=\"Title\")\n",
    "args_func1(name=\"Park\", addr=\"seoul\")\n",
    "args_func1(name=\"Park\", addr=\"seoul\", tel=\"01012345678\")"
   ]
  },
  {
   "cell_type": "code",
   "execution_count": 15,
   "metadata": {},
   "outputs": [],
   "source": [
    "def example(arg1, arg2=10, *args, **kwargs):\n",
    "    print(arg1, arg2, args, kwargs)"
   ]
  },
  {
   "cell_type": "code",
   "execution_count": 16,
   "metadata": {},
   "outputs": [
    {
     "name": "stdout",
     "output_type": "stream",
     "text": [
      "10 10 () {}\n",
      "10 25 () {}\n",
      "10 20 ('park', 'kim') {}\n",
      "10 25 ('kim', 'choi') {'age': 15, 'name': 'park'}\n"
     ]
    }
   ],
   "source": [
    "example(10)\n",
    "example(10,25)\n",
    "example(10,20,\"park\",\"kim\")\n",
    "example(10,25,\"kim\", \"choi\",age=15, name=\"park\")"
   ]
  },
  {
   "cell_type": "markdown",
   "metadata": {},
   "source": [
    "# 다중 리턴 (tuple로 리턴됨)\n",
    "#### 예) (첫번째값, 두번째값 ...)\n",
    "\n",
    "...\n",
    "\n",
    "    java나 javascript 는 하나만 리턴\n",
    "\n",
    "    void main(){return a}\n",
    "    function func(){return b}\n",
    "\n",
    "..."
   ]
  },
  {
   "cell_type": "code",
   "execution_count": 4,
   "metadata": {},
   "outputs": [],
   "source": [
    "def sum_and_mul(a,b):\n",
    "    \n",
    "    return a+b, a*b"
   ]
  },
  {
   "cell_type": "code",
   "execution_count": 5,
   "metadata": {},
   "outputs": [
    {
     "name": "stdout",
     "output_type": "stream",
     "text": [
      "덧셈 : 8, 곱셈 : 15\n"
     ]
    }
   ],
   "source": [
    "result1,result2 = sum_and_mul(5,3)\n",
    "print(f\"덧셈 : {result1}, 곱셈 : {result2}\")"
   ]
  },
  {
   "cell_type": "code",
   "execution_count": 6,
   "metadata": {},
   "outputs": [
    {
     "name": "stdout",
     "output_type": "stream",
     "text": [
      "(8, 15)\n"
     ]
    }
   ],
   "source": [
    "result3 = sum_and_mul(5,3)\n",
    "print(result3) # 묶어서 보내지 않았을 때는 그냥 tuple로 나옴"
   ]
  },
  {
   "cell_type": "code",
   "execution_count": 22,
   "metadata": {},
   "outputs": [],
   "source": [
    "def func2(x):\n",
    "    y1 = x * 100\n",
    "    y2 = x * 200\n",
    "    y3 = x * 300\n",
    "\n",
    "    # return y1,y2,y3 => tople 로 리턴됨\n",
    "    return [y1,y2,y3]"
   ]
  },
  {
   "cell_type": "code",
   "execution_count": 23,
   "metadata": {},
   "outputs": [
    {
     "name": "stdout",
     "output_type": "stream",
     "text": [
      "[1000, 2000, 3000]\n"
     ]
    }
   ],
   "source": [
    "list1 = func2(10)\n",
    "print(list1)"
   ]
  },
  {
   "cell_type": "code",
   "execution_count": 7,
   "metadata": {},
   "outputs": [
    {
     "name": "stdout",
     "output_type": "stream",
     "text": [
      "6 + 3 = 9\n",
      "6 - 3 = 3\n",
      "6 * 3 = 18\n",
      "6 / 3 = 2.0\n",
      "6 // 3 = 2\n"
     ]
    }
   ],
   "source": [
    "# 사칙연산 함수\n",
    "def fourRules(num1, num2, op):\n",
    "    if op == \"+\":\n",
    "        result = num1 + num2\n",
    "    elif op == \"-\":\n",
    "        result = num1 - num2\n",
    "    elif op == \"*\":\n",
    "        result = num1 * num2\n",
    "    elif op == \"/\":\n",
    "        result = num1 / num2\n",
    "    elif op == \"//\":\n",
    "        result = num1 // num2\n",
    "    return result\n",
    "\n",
    "a,b = 6,3\n",
    "# 사칙연산 출력\n",
    "print(f\"{a} + {b} = {fourRules(a,b,\"+\")}\")\n",
    "print(f\"{a} - {b} = {fourRules(a,b,\"-\")}\")\n",
    "print(f\"{a} * {b} = {fourRules(a,b,\"*\")}\")\n",
    "print(f\"{a} / {b} = {fourRules(a,b,\"/\")}\")\n",
    "print(f\"{a} // {b} = {fourRules(a,b,\"//\")}\")"
   ]
  },
  {
   "cell_type": "code",
   "execution_count": null,
   "metadata": {},
   "outputs": [
    {
     "name": "stdout",
     "output_type": "stream",
     "text": [
      "7 + 6 = 13\n",
      "7 - 6 = 1\n",
      "7 * 6 = 42\n",
      "7 / 6 = 1.1666666666666667\n",
      "7 / 6 = 1\n"
     ]
    }
   ],
   "source": [
    "# a, b, op 입력 받기\n",
    "a = int(input(\"첫번째 숫자 : \"))\n",
    "b = int(input(\"첫번째 숫자 : \"))\n",
    "op = input(\"연산자 : \")\n",
    "\n",
    "# 사칙연산 출력\n",
    "print(f\"{a} {op} {b} = {fourRules(a,b,op)}\")"
   ]
  },
  {
   "cell_type": "code",
   "execution_count": 32,
   "metadata": {},
   "outputs": [],
   "source": [
    "# 유효 범위\n",
    "a = 3\n",
    "\n",
    "def func2(a):\n",
    "    print(f\"함수 내부 {a}\")\n",
    "    a += 2\n",
    "    print(f\"함수 내부 {a}\")"
   ]
  },
  {
   "cell_type": "code",
   "execution_count": 33,
   "metadata": {},
   "outputs": [
    {
     "name": "stdout",
     "output_type": "stream",
     "text": [
      "3\n",
      "함수 내부 1\n",
      "함수 내부 3\n"
     ]
    }
   ],
   "source": [
    "# 전역 변수\n",
    "\n",
    "print(a)\n",
    "\n",
    "func2(1)"
   ]
  },
  {
   "cell_type": "code",
   "execution_count": 9,
   "metadata": {},
   "outputs": [],
   "source": [
    "def func3():\n",
    "    # 함수 내부에서 전역 변수 사용 불가\n",
    "    a += 2\n",
    "    return a"
   ]
  },
  {
   "cell_type": "code",
   "execution_count": null,
   "metadata": {},
   "outputs": [
    {
     "ename": "UnboundLocalError",
     "evalue": "cannot access local variable 'a' where it is not associated with a value",
     "output_type": "error",
     "traceback": [
      "\u001b[1;31m---------------------------------------------------------------------------\u001b[0m",
      "\u001b[1;31mUnboundLocalError\u001b[0m                         Traceback (most recent call last)",
      "Cell \u001b[1;32mIn[10], line 1\u001b[0m\n\u001b[1;32m----> 1\u001b[0m \u001b[38;5;28mprint\u001b[39m(\u001b[43mfunc3\u001b[49m\u001b[43m(\u001b[49m\u001b[43m)\u001b[49m)\n",
      "Cell \u001b[1;32mIn[9], line 3\u001b[0m, in \u001b[0;36mfunc3\u001b[1;34m()\u001b[0m\n\u001b[0;32m      1\u001b[0m \u001b[38;5;28;01mdef\u001b[39;00m \u001b[38;5;21mfunc3\u001b[39m():\n\u001b[0;32m      2\u001b[0m     \u001b[38;5;66;03m# 함수 내부에서 전역 변수 사용 불가\u001b[39;00m\n\u001b[1;32m----> 3\u001b[0m     \u001b[43ma\u001b[49m \u001b[38;5;241m+\u001b[39m\u001b[38;5;241m=\u001b[39m \u001b[38;5;241m2\u001b[39m\n\u001b[0;32m      4\u001b[0m     \u001b[38;5;28;01mreturn\u001b[39;00m a\n",
      "\u001b[1;31mUnboundLocalError\u001b[0m: cannot access local variable 'a' where it is not associated with a value"
     ]
    }
   ],
   "source": [
    "print(func3())"
   ]
  },
  {
   "cell_type": "code",
   "execution_count": 40,
   "metadata": {},
   "outputs": [],
   "source": [
    "def func3():\n",
    "    # 함수 내부에서 전역 변수 사용방법 : global\n",
    "    global a\n",
    "    a += 2\n",
    "    return a"
   ]
  },
  {
   "cell_type": "code",
   "execution_count": 41,
   "metadata": {},
   "outputs": [
    {
     "name": "stdout",
     "output_type": "stream",
     "text": [
      "7\n"
     ]
    }
   ],
   "source": [
    "print(func3())"
   ]
  },
  {
   "cell_type": "markdown",
   "metadata": {},
   "source": [
    "#### 람다 함수\n",
    "\n",
    " - 단일문으로 표현되는 익명함수\n",
    " - 코드 상에서 한번만 사용되는 기능이 필요할 때 함수로 작성하지 않고 1회성으로 만들 때 주로 사용"
   ]
  },
  {
   "cell_type": "code",
   "execution_count": 42,
   "metadata": {},
   "outputs": [
    {
     "data": {
      "text/plain": [
       "25"
      ]
     },
     "execution_count": 42,
     "metadata": {},
     "output_type": "execute_result"
    }
   ],
   "source": [
    "def square(x):\n",
    "    return x ** 2\n",
    "\n",
    "square(5)"
   ]
  },
  {
   "cell_type": "code",
   "execution_count": 43,
   "metadata": {},
   "outputs": [
    {
     "data": {
      "text/plain": [
       "36"
      ]
     },
     "execution_count": 43,
     "metadata": {},
     "output_type": "execute_result"
    }
   ],
   "source": [
    "square = lambda x:x ** 2\n",
    "square(6)"
   ]
  },
  {
   "cell_type": "code",
   "execution_count": 44,
   "metadata": {},
   "outputs": [
    {
     "data": {
      "text/plain": [
       "27"
      ]
     },
     "execution_count": 44,
     "metadata": {},
     "output_type": "execute_result"
    }
   ],
   "source": [
    "def add(x, y):\n",
    "    return x + y\n",
    "\n",
    "add(15,12)"
   ]
  },
  {
   "cell_type": "code",
   "execution_count": 46,
   "metadata": {},
   "outputs": [
    {
     "data": {
      "text/plain": [
       "24"
      ]
     },
     "execution_count": 46,
     "metadata": {},
     "output_type": "execute_result"
    }
   ],
   "source": [
    "add = lambda x,y: x+y\n",
    "add(18,6)"
   ]
  },
  {
   "cell_type": "code",
   "execution_count": 48,
   "metadata": {},
   "outputs": [
    {
     "data": {
      "text/plain": [
       "['alexander3', 'bob', 'charles', 'teddy']"
      ]
     },
     "execution_count": 48,
     "metadata": {},
     "output_type": "execute_result"
    }
   ],
   "source": [
    "strings = [\"bob\",\"charles\",\"alexander3\",\"teddy\"]\n",
    "\n",
    "strings.sort() # 오름차순 정렬\n",
    "\n",
    "strings"
   ]
  },
  {
   "cell_type": "code",
   "execution_count": 49,
   "metadata": {},
   "outputs": [
    {
     "data": {
      "text/plain": [
       "['teddy', 'charles', 'bob', 'alexander3']"
      ]
     },
     "execution_count": 49,
     "metadata": {},
     "output_type": "execute_result"
    }
   ],
   "source": [
    "strings = [\"bob\",\"charles\",\"alexander3\",\"teddy\"]\n",
    "\n",
    "strings.sort(reverse=True) # 내림차순 정렬\n",
    "\n",
    "strings\n"
   ]
  },
  {
   "cell_type": "code",
   "execution_count": 51,
   "metadata": {},
   "outputs": [
    {
     "data": {
      "text/plain": [
       "['bob', 'teddy', 'charles', 'alexander3']"
      ]
     },
     "execution_count": 51,
     "metadata": {},
     "output_type": "execute_result"
    }
   ],
   "source": [
    "# 단어 길이 리턴 함수\n",
    "def str_len(word):\n",
    "    return len(word)\n",
    "\n",
    "strings = [\"bob\",\"charles\",\"alexander3\",\"teddy\"]\n",
    "\n",
    "strings.sort(key=str_len) # 정렬 기준 지정 후 정렬 - 단어의 길이가 짧은 순서\n",
    "\n",
    "strings\n"
   ]
  },
  {
   "cell_type": "code",
   "execution_count": 54,
   "metadata": {},
   "outputs": [
    {
     "data": {
      "text/plain": [
       "['bob', 'teddy', 'charles', 'alexander3']"
      ]
     },
     "execution_count": 54,
     "metadata": {},
     "output_type": "execute_result"
    }
   ],
   "source": [
    "strings = [\"bob\",\"charles\",\"alexander3\",\"teddy\"]\n",
    "\n",
    "strings.sort(key=lambda s:len(s)) # 따로 함수를 작성 할 것 없이 한번 쓸 함수를 람다식으로 지정\n",
    "\n",
    "strings\n"
   ]
  },
  {
   "cell_type": "code",
   "execution_count": 59,
   "metadata": {},
   "outputs": [
    {
     "data": {
      "text/plain": [
       "['alexander3', 'charles', 'teddy', 'bob']"
      ]
     },
     "execution_count": 59,
     "metadata": {},
     "output_type": "execute_result"
    }
   ],
   "source": [
    "strings = [\"bob\",\"charles\",\"alexander3\",\"teddy\"]\n",
    "\n",
    "strings.sort(key=lambda s:len(s), reverse=True) # 따로 함수를 작성 할 것 없이 한번 쓸 함수를 람다식으로 지정\n",
    "\n",
    "strings\n"
   ]
  },
  {
   "cell_type": "markdown",
   "metadata": {},
   "source": [
    "- filter(함수, 데이터) : 반복가능한 데이터 요소 순서대로 함수를 호출했을 때 리턴값이 참인것만 묶어서 리턴\n",
    "- map(함수, 데이터) :  반복가능한 데이터 요소에 함수를 적용한 결과 리턴\n",
    "- reduce()"
   ]
  },
  {
   "cell_type": "code",
   "execution_count": 12,
   "metadata": {},
   "outputs": [
    {
     "data": {
      "text/plain": [
       "[2, 4]"
      ]
     },
     "execution_count": 12,
     "metadata": {},
     "output_type": "execute_result"
    }
   ],
   "source": [
    "# 배열에서 짝수 출력\n",
    "def even(arr):\n",
    "    result = []\n",
    "    for i in arr:\n",
    "        if i % 2 == 0:\n",
    "            result.append(i)\n",
    "    \n",
    "    return result\n",
    "\n",
    "even([1,2,3,4,5])"
   ]
  },
  {
   "cell_type": "markdown",
   "metadata": {},
   "source": [
    "### Filter"
   ]
  },
  {
   "cell_type": "code",
   "execution_count": 13,
   "metadata": {},
   "outputs": [
    {
     "name": "stdout",
     "output_type": "stream",
     "text": [
      "[2, 6, 8, 10]\n"
     ]
    }
   ],
   "source": [
    "def even(n):\n",
    "    return n % 2 == 0\n",
    "\n",
    "print(list(filter(even, [1,2,3,6,8,9,10])))"
   ]
  },
  {
   "cell_type": "markdown",
   "metadata": {},
   "source": [
    "##### - 람다식 사용"
   ]
  },
  {
   "cell_type": "code",
   "execution_count": 14,
   "metadata": {},
   "outputs": [
    {
     "name": "stdout",
     "output_type": "stream",
     "text": [
      "[2, 6, 8, 10]\n"
     ]
    }
   ],
   "source": [
    "print(list(filter(lambda x:x % 2 ==0, [1,2,3,6,8,9,10])))"
   ]
  },
  {
   "cell_type": "code",
   "execution_count": 56,
   "metadata": {},
   "outputs": [
    {
     "data": {
      "text/plain": [
       "[1, 2, 6]"
      ]
     },
     "execution_count": 56,
     "metadata": {},
     "output_type": "execute_result"
    }
   ],
   "source": [
    "# 양수만 추출\n",
    "def positive(list1):\n",
    "    result = []\n",
    "    for i in list1:\n",
    "        if i > 0:\n",
    "            result.append(i)\n",
    "    return result\n",
    "\n",
    "list1 = [1,-3,2,0,-5,6]\n",
    "positive(list1)"
   ]
  },
  {
   "cell_type": "code",
   "execution_count": 57,
   "metadata": {},
   "outputs": [
    {
     "data": {
      "text/plain": [
       "[1, 2, 6]"
      ]
     },
     "execution_count": 57,
     "metadata": {},
     "output_type": "execute_result"
    }
   ],
   "source": [
    "#  람다식 사용\n",
    "list(filter(lambda x:x>0, list1))"
   ]
  },
  {
   "cell_type": "code",
   "execution_count": 62,
   "metadata": {},
   "outputs": [
    {
     "data": {
      "text/plain": [
       "[2, 4, 6, 12, 16, 20, 22, 24, 26, 28, 30]"
      ]
     },
     "execution_count": 62,
     "metadata": {},
     "output_type": "execute_result"
    }
   ],
   "source": [
    "# 리스트의 각 요소에 2를 곱해 리턴\n",
    "def two_times(nums):\n",
    "    result = []\n",
    "\n",
    "    for i in nums:\n",
    "        result.append(i * 2)\n",
    "\n",
    "    return result\n",
    "\n",
    "num_list = [1,2,3,6,8,10,11,12,13,14,15]\n",
    "two_times(num_list)"
   ]
  },
  {
   "cell_type": "code",
   "execution_count": 63,
   "metadata": {},
   "outputs": [
    {
     "data": {
      "text/plain": [
       "[2, 4, 6, 12, 16, 20, 22, 24, 26, 28, 30]"
      ]
     },
     "execution_count": 63,
     "metadata": {},
     "output_type": "execute_result"
    }
   ],
   "source": [
    "def two_times1(x):\n",
    "    return x * 2\n",
    "\n",
    "list(map(two_times1, num_list))"
   ]
  },
  {
   "cell_type": "code",
   "execution_count": 64,
   "metadata": {},
   "outputs": [
    {
     "data": {
      "text/plain": [
       "[2, 4, 6, 12, 16, 20, 22, 24, 26, 28, 30]"
      ]
     },
     "execution_count": 64,
     "metadata": {},
     "output_type": "execute_result"
    }
   ],
   "source": [
    "list(map(lambda x:x*2, num_list))"
   ]
  }
 ],
 "metadata": {
  "kernelspec": {
   "display_name": "venv",
   "language": "python",
   "name": "python3"
  },
  "language_info": {
   "codemirror_mode": {
    "name": "ipython",
    "version": 3
   },
   "file_extension": ".py",
   "mimetype": "text/x-python",
   "name": "python",
   "nbconvert_exporter": "python",
   "pygments_lexer": "ipython3",
   "version": "3.13.1"
  }
 },
 "nbformat": 4,
 "nbformat_minor": 2
}
