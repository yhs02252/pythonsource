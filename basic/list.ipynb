{
 "cells": [
  {
   "cell_type": "markdown",
   "metadata": {},
   "source": [
    "### 리스트 자료형\n",
    "\n",
    "- 자바,자바스크립트의 배열과 같은 개념\n",
    "- 비어있는 리스트 생성 : [] or list()\n",
    "- 데이터는 다양하게 담을 수 있음"
   ]
  },
  {
   "cell_type": "code",
   "execution_count": 1,
   "metadata": {},
   "outputs": [],
   "source": [
    "list1 = []\n",
    "list2 = list()\n",
    "list3 = [1,2,3,4]\n",
    "list4 = list(range(10))\n",
    "list5 = [1,2,['Life','is','short']]"
   ]
  },
  {
   "cell_type": "code",
   "execution_count": 2,
   "metadata": {},
   "outputs": [
    {
     "name": "stdout",
     "output_type": "stream",
     "text": [
      "[]\n",
      "[]\n",
      "[1, 2, 3, 4]\n",
      "[0, 1, 2, 3, 4, 5, 6, 7, 8, 9]\n",
      "[1, 2, ['Life', 'is', 'short']]\n"
     ]
    }
   ],
   "source": [
    "print(list1)\n",
    "print(list2)\n",
    "print(list3)\n",
    "print(list4)\n",
    "print(list5)"
   ]
  },
  {
   "cell_type": "code",
   "execution_count": 3,
   "metadata": {},
   "outputs": [
    {
     "name": "stdout",
     "output_type": "stream",
     "text": [
      "3\n",
      "4\n",
      "['Life', 'is', 'short']\n",
      "short\n",
      "short\n"
     ]
    }
   ],
   "source": [
    "print(list3[2])\n",
    "print(list3[-1])\n",
    "print(list5[-1])\n",
    "print(list5[-1][2])\n",
    "print(list5[2][2])"
   ]
  },
  {
   "cell_type": "code",
   "execution_count": 4,
   "metadata": {},
   "outputs": [
    {
     "name": "stdout",
     "output_type": "stream",
     "text": [
      "is\n",
      "is\n"
     ]
    }
   ],
   "source": [
    "list6 = [1, 2, ['a','b',['Life','is']]]\n",
    "\n",
    "print(list6[2][2][1])\n",
    "print(list6[-1][-1][-1])"
   ]
  },
  {
   "cell_type": "code",
   "execution_count": 5,
   "metadata": {},
   "outputs": [
    {
     "name": "stdout",
     "output_type": "stream",
     "text": [
      "[1, 2, ['Life', 'is', 'short']]\n",
      "[['Life', 'is', 'short']]\n",
      "['Life', 'is']\n"
     ]
    }
   ],
   "source": [
    "print(list5)\n",
    "print(list5[2:])\n",
    "print(list5[2][:2])"
   ]
  },
  {
   "cell_type": "code",
   "execution_count": 6,
   "metadata": {},
   "outputs": [
    {
     "name": "stdout",
     "output_type": "stream",
     "text": [
      "[1, 2, 3, 4, 5, 6]\n",
      "[1, 2, 3, 'a', 'b', 'c']\n",
      "[1, 2, 3, 1, 2, 3, 1, 2, 3]\n",
      "3\n"
     ]
    }
   ],
   "source": [
    "# 연산자 : +(연결) , *(반복)\n",
    "\n",
    "a = [1,2,3]\n",
    "b = [4,5,6]\n",
    "c = ['a','b','c']\n",
    "\n",
    "print(a + b)\n",
    "print(a + c)\n",
    "\n",
    "print(a * 3)\n",
    "print(a[0] * 3)"
   ]
  },
  {
   "cell_type": "code",
   "execution_count": 7,
   "metadata": {},
   "outputs": [
    {
     "name": "stdout",
     "output_type": "stream",
     "text": [
      "[0, 13, 2, 3, 4, 5, 6, 7, 8, 9]\n",
      "[0, 13, 10, 11, 4, 5, 6, 7, 8, 9]\n",
      "[0, 13, 10, 11, 4, [20, 21, 22], 6, 7, 8, 9]\n"
     ]
    }
   ],
   "source": [
    "# 리스트 특정 요소 수정\n",
    "list4[1] = 13\n",
    "print(list4)\n",
    "\n",
    "# 연속된 범위의 값 수정\n",
    "list4[2:4] = [10,11]\n",
    "print(list4)\n",
    "\n",
    "list4[5] = [20,21,22]\n",
    "print(list4)"
   ]
  },
  {
   "cell_type": "code",
   "execution_count": 8,
   "metadata": {},
   "outputs": [
    {
     "name": "stdout",
     "output_type": "stream",
     "text": [
      "[0, 13, 10, 11, 4, [20, 21, 22], 6, 7, 9]\n"
     ]
    }
   ],
   "source": [
    "# 리스트 요소 삭제 del\n",
    "del list4[8]\n",
    "print(list4)"
   ]
  },
  {
   "cell_type": "code",
   "execution_count": 9,
   "metadata": {},
   "outputs": [],
   "source": [
    "# del 객체 : 객체 제거\n",
    "\n",
    "del list3"
   ]
  },
  {
   "cell_type": "code",
   "execution_count": 10,
   "metadata": {},
   "outputs": [
    {
     "name": "stdout",
     "output_type": "stream",
     "text": [
      "[1, 2, 3, 4]\n",
      "[1, 2, 3, 4, [5, 6, 7]]\n"
     ]
    }
   ],
   "source": [
    "# 리스트 함수\n",
    "# 요소 추가 : append()\n",
    "\n",
    "a.append(4)\n",
    "print(a)\n",
    "\n",
    "a.append([5,6,7])\n",
    "print(a)"
   ]
  },
  {
   "cell_type": "code",
   "execution_count": 11,
   "metadata": {},
   "outputs": [],
   "source": [
    "# 리스트 정렬 : sort()\n",
    "a = [1,4,3,2]\n",
    "a.sort()  # 원본에 바로 sort 적용"
   ]
  },
  {
   "cell_type": "code",
   "execution_count": 12,
   "metadata": {},
   "outputs": [
    {
     "data": {
      "text/plain": [
       "[1, 2, 3, 4]"
      ]
     },
     "execution_count": 12,
     "metadata": {},
     "output_type": "execute_result"
    }
   ],
   "source": [
    "a"
   ]
  },
  {
   "cell_type": "code",
   "execution_count": 13,
   "metadata": {},
   "outputs": [
    {
     "name": "stdout",
     "output_type": "stream",
     "text": [
      "['a', 'b', 'c']\n"
     ]
    }
   ],
   "source": [
    "b = ['a','c','b']\n",
    "b.sort()\n",
    "print(b)"
   ]
  },
  {
   "cell_type": "code",
   "execution_count": 14,
   "metadata": {},
   "outputs": [
    {
     "name": "stdout",
     "output_type": "stream",
     "text": [
      "['ㄱ', 'ㄷ', 'ㅂ', 'ㅅ', 'ㅎ']\n"
     ]
    }
   ],
   "source": [
    "c = [\"ㄷ\",\"ㄱ\",\"ㅎ\",\"ㅂ\",\"ㅅ\"]\n",
    "c.sort()\n",
    "print(c)"
   ]
  },
  {
   "cell_type": "code",
   "execution_count": 15,
   "metadata": {},
   "outputs": [
    {
     "name": "stdout",
     "output_type": "stream",
     "text": [
      "[0, 13, 10, 11, 4, [20, 21, 22], 6, 7, 9]\n"
     ]
    },
    {
     "data": {
      "text/plain": [
       "[9, 7, 6, [20, 21, 22], 4, 11, 10, 13, 0]"
      ]
     },
     "execution_count": 15,
     "metadata": {},
     "output_type": "execute_result"
    }
   ],
   "source": [
    "# 리스트 뒤집기 - reverse()\n",
    "\n",
    "print(list4)\n",
    "list4.reverse()\n",
    "list4"
   ]
  },
  {
   "cell_type": "code",
   "execution_count": 17,
   "metadata": {},
   "outputs": [
    {
     "name": "stdout",
     "output_type": "stream",
     "text": [
      "[]\n",
      "[]\n",
      "[9, 7, 6, [20, 21, 22], 4, 11, 10, 13, 0]\n",
      "[1, 2, ['Life', 'is', 'short']]\n"
     ]
    }
   ],
   "source": [
    "print(list1)\n",
    "print(list2)\n",
    "print(list4)\n",
    "print(list5)"
   ]
  },
  {
   "cell_type": "code",
   "execution_count": 20,
   "metadata": {},
   "outputs": [
    {
     "data": {
      "text/plain": [
       "5"
      ]
     },
     "execution_count": 20,
     "metadata": {},
     "output_type": "execute_result"
    }
   ],
   "source": [
    "# index() : 요소 위치 반환\n",
    "\n",
    "list4.index(11)\n",
    "# list4.index(15) ValueError "
   ]
  },
  {
   "cell_type": "code",
   "execution_count": 21,
   "metadata": {},
   "outputs": [
    {
     "data": {
      "text/plain": [
       "[56]"
      ]
     },
     "execution_count": 21,
     "metadata": {},
     "output_type": "execute_result"
    }
   ],
   "source": [
    "# insert() : 특정 위치에 요소 삽입\n",
    "\n",
    "list1.insert(0, 56)\n",
    "list1"
   ]
  },
  {
   "cell_type": "code",
   "execution_count": 22,
   "metadata": {},
   "outputs": [
    {
     "data": {
      "text/plain": [
       "[78, 56]"
      ]
     },
     "execution_count": 22,
     "metadata": {},
     "output_type": "execute_result"
    }
   ],
   "source": [
    "list1.insert(0, 78)\n",
    "list1"
   ]
  },
  {
   "cell_type": "code",
   "execution_count": 24,
   "metadata": {},
   "outputs": [
    {
     "name": "stdout",
     "output_type": "stream",
     "text": [
      "[9, 7, 6, [20, 21, 22], 4, 11, 10, 13, 0]\n",
      "[9, 7, [20, 21, 22], 4, 11, 10, 13, 0]\n"
     ]
    }
   ],
   "source": [
    "# remove() : 동일 요소가 존재할 때는 첫번째 요소만 제거\n",
    "print(list4)\n",
    "list4.remove(6)\n",
    "print(list4)"
   ]
  },
  {
   "cell_type": "code",
   "execution_count": 25,
   "metadata": {},
   "outputs": [
    {
     "name": "stdout",
     "output_type": "stream",
     "text": [
      "0\n",
      "[9, 7, [20, 21, 22], 4, 11, 10, 13]\n"
     ]
    }
   ],
   "source": [
    "# pop() : 맨 마지막 요소 리턴하고 요소 삭제\n",
    "\n",
    "print(list4.pop())\n",
    "print(list4)"
   ]
  },
  {
   "cell_type": "code",
   "execution_count": 27,
   "metadata": {},
   "outputs": [
    {
     "name": "stdout",
     "output_type": "stream",
     "text": [
      "[9, 7, [20, 21, 22], 4, 11, 10, 13, 9, 9]\n",
      "9의 개수  3\n"
     ]
    }
   ],
   "source": [
    "# count(x) : 리스트에 포함된 요소 x의 개수세기\n",
    "\n",
    "list4.append(9)\n",
    "print(list4)\n",
    "\n",
    "print(\"9의 개수 \",list4.count(9))"
   ]
  },
  {
   "cell_type": "code",
   "execution_count": 29,
   "metadata": {},
   "outputs": [
    {
     "data": {
      "text/plain": [
       "[78, 56, 10, 11, 12]"
      ]
     },
     "execution_count": 29,
     "metadata": {},
     "output_type": "execute_result"
    }
   ],
   "source": [
    "# extend() : 리스트 확장\n",
    "\n",
    "list1.extend([10,11,12])\n",
    "list1"
   ]
  },
  {
   "cell_type": "code",
   "execution_count": 31,
   "metadata": {},
   "outputs": [
    {
     "name": "stdout",
     "output_type": "stream",
     "text": [
      "[]\n",
      "거짓\n"
     ]
    }
   ],
   "source": [
    "print(list2)\n",
    "\n",
    "# 비어 있는 배열 : 거짓\n",
    "if list2:\n",
    "    print(\"참\")\n",
    "else:\n",
    "    print(\"거짓\")"
   ]
  },
  {
   "cell_type": "code",
   "execution_count": 33,
   "metadata": {},
   "outputs": [
    {
     "name": "stdout",
     "output_type": "stream",
     "text": [
      "1\n",
      "2\n",
      "['Life', 'is', 'short']\n"
     ]
    }
   ],
   "source": [
    "# list5\n",
    "\n",
    "for i in list5:\n",
    "    print(i)"
   ]
  },
  {
   "cell_type": "code",
   "execution_count": 36,
   "metadata": {},
   "outputs": [
    {
     "name": "stdout",
     "output_type": "stream",
     "text": [
      "딸기 포함됨\n",
      "메론 없음\n"
     ]
    }
   ],
   "source": [
    "# in\n",
    "\n",
    "fruits = [\"사과\",\"딸기\",\"바나나\",\"수박\"]\n",
    "\n",
    "# 딸기 과일이 포함되었는지 확인\n",
    "# for fruit in fruits:\n",
    "#     if fruit == \"딸기\":\n",
    "#         print(\"딸기 포함됨\")\n",
    "#         break\n",
    "\n",
    "if \"딸기\" in fruits:\n",
    "    print(\"딸기 포함됨\")\n",
    "\n",
    "if \"메론\" not in fruits:\n",
    "    print(\"메론 없음\")"
   ]
  },
  {
   "cell_type": "code",
   "execution_count": 39,
   "metadata": {},
   "outputs": [
    {
     "name": "stdout",
     "output_type": "stream",
     "text": [
      "사과\n",
      "딸기\n",
      "바나나\n",
      "수박\n",
      "1 사과\n",
      "2 딸기\n",
      "3 바나나\n",
      "4 수박\n"
     ]
    }
   ],
   "source": [
    "# enumerate()\n",
    "\n",
    "for fruit in fruits:\n",
    "    print(fruit)\n",
    "\n",
    "for idx,fruit in enumerate(fruits,start=1):\n",
    "    print(idx, fruit)"
   ]
  },
  {
   "cell_type": "code",
   "execution_count": 40,
   "metadata": {},
   "outputs": [
    {
     "name": "stdout",
     "output_type": "stream",
     "text": [
      "a_class total = 710, avg= 78.88888888888889\n"
     ]
    }
   ],
   "source": [
    "a_class = [70,60,55,75,95,90,80,85,100]\n",
    "total = 0\n",
    "\n",
    "# a_class 합계, 평균\n",
    "\n",
    "for i in a_class:\n",
    "    total += i\n",
    "\n",
    "print(f\"a_class total = {total}, avg= {total / len(a_class)}\")"
   ]
  },
  {
   "cell_type": "code",
   "execution_count": 42,
   "metadata": {},
   "outputs": [
    {
     "name": "stdout",
     "output_type": "stream",
     "text": [
      "a_class total = 710, avg= 78.88888888888889\n"
     ]
    }
   ],
   "source": [
    "# sum()\n",
    "\n",
    "print(f\"a_class total = {sum(a_class)}, avg= {sum(a_class) / len(a_class)}\")"
   ]
  },
  {
   "cell_type": "markdown",
   "metadata": {},
   "source": [
    "### 주차장\n",
    "- 메뉴 \n",
    "    - [1] 자동차 넣기 | [2] 자동차 빼기 | [3] 종료 : \n",
    "    - A 자동차 들어감. 주차장 상태 ==> ['A']\n",
    "    - [1] 자동차 넣기 | [2] 자동차 빼기 | [3] 종료 : \n",
    "    - B 자동차 들어감. 주차장 상태 ==> ['A','B']\n",
    "    - [1] 자동차 넣기 | [2] 자동차 빼기 | [3] 종료 : 2\n",
    "    - B 자동차 나감. 주차장 상태 ==> ['A']\n"
   ]
  },
  {
   "cell_type": "code",
   "execution_count": 47,
   "metadata": {},
   "outputs": [
    {
     "name": "stdout",
     "output_type": "stream",
     "text": [
      "A 자동차 들어감. 주차장 상태 ==> ['A']\n",
      "B 자동차 들어감. 주차장 상태 ==> ['A', 'B']\n",
      "C 자동차 들어감. 주차장 상태 ==> ['A', 'B', 'C']\n",
      "D 자동차 들어감. 주차장 상태 ==> ['A', 'B', 'C', 'D']\n",
      "E 자동차 들어감. 주차장 상태 ==> ['A', 'B', 'C', 'D', 'E']\n",
      "주차장 자리 없음\n",
      "E 자동차 나감. 주차장 상태 ==> ['A', 'B', 'C', 'D']\n",
      "D 자동차 나감. 주차장 상태 ==> ['A', 'B', 'C']\n",
      "C 자동차 나감. 주차장 상태 ==> ['A', 'B']\n",
      "B 자동차 나감. 주차장 상태 ==> ['A']\n",
      "프로그램 종료\n"
     ]
    }
   ],
   "source": [
    "parking_lot = []\n",
    "top, car_name = 0, \"A\"\n",
    "\n",
    "while True:\n",
    "    menu = int(input(\"[1] 자동차 넣기 | [2] 자동차 빼기 | [3] 종료 : \"))\n",
    "    if menu <= 3:\n",
    "        if menu == 1:\n",
    "            if top >= 5:\n",
    "                print(\"주차장 자리 없음\")\n",
    "            else:\n",
    "                parking_lot.append(car_name)\n",
    "                print(f\"{car_name} 자동차 들어감. 주차장 상태 ==> {parking_lot}\")\n",
    "\n",
    "                # top 변화(다음 자동차가 주차될 위치)\n",
    "                top += 1\n",
    "                car_name = chr(ord(car_name) + 1)\n",
    "        elif menu == 2:\n",
    "            if top > 0:\n",
    "                out_car = parking_lot.pop()\n",
    "                print(f\"{out_car} 자동차 나감. 주차장 상태 ==> {parking_lot}\")\n",
    "\n",
    "                top -= 1\n",
    "                car_name = chr(ord(car_name) - 1)\n",
    "            else:\n",
    "                print(\"주차된 차가 없음\")\n",
    "        else:\n",
    "            print(\"프로그램 종료\")\n",
    "            break\n",
    "    else:\n",
    "        print('메뉴 번호를 확인해 주세요')"
   ]
  },
  {
   "cell_type": "code",
   "execution_count": 46,
   "metadata": {},
   "outputs": [
    {
     "name": "stdout",
     "output_type": "stream",
     "text": [
      "65\n"
     ]
    },
    {
     "data": {
      "text/plain": [
       "'B'"
      ]
     },
     "execution_count": 46,
     "metadata": {},
     "output_type": "execute_result"
    }
   ],
   "source": [
    "# string => unicode\n",
    "print(ord(\"A\"))\n",
    "\n",
    "# unicode => string\n",
    "chr(66)"
   ]
  },
  {
   "cell_type": "markdown",
   "metadata": {},
   "source": [
    "### List Comprehension\n",
    "- 리스트 생성, 조회 시 향상된 방법\n"
   ]
  },
  {
   "cell_type": "code",
   "execution_count": 48,
   "metadata": {},
   "outputs": [
    {
     "data": {
      "text/plain": [
       "[1, 2, 3, 4, 5, 6, 7]"
      ]
     },
     "execution_count": 48,
     "metadata": {},
     "output_type": "execute_result"
    }
   ],
   "source": [
    "# [1,2,3,4,5,6,7] 생성\n",
    "\n",
    "numbers = [1,2,3,4,5,6,7]\n",
    "numbers"
   ]
  },
  {
   "cell_type": "code",
   "execution_count": 50,
   "metadata": {},
   "outputs": [
    {
     "data": {
      "text/plain": [
       "[1,\n",
       " 3,\n",
       " 5,\n",
       " 7,\n",
       " 9,\n",
       " 11,\n",
       " 13,\n",
       " 15,\n",
       " 17,\n",
       " 19,\n",
       " 21,\n",
       " 23,\n",
       " 25,\n",
       " 27,\n",
       " 29,\n",
       " 31,\n",
       " 33,\n",
       " 35,\n",
       " 37,\n",
       " 39,\n",
       " 41,\n",
       " 43,\n",
       " 45,\n",
       " 47,\n",
       " 49,\n",
       " 51,\n",
       " 53,\n",
       " 55,\n",
       " 57,\n",
       " 59,\n",
       " 61,\n",
       " 63,\n",
       " 65,\n",
       " 67,\n",
       " 69,\n",
       " 71,\n",
       " 73,\n",
       " 75,\n",
       " 77,\n",
       " 79,\n",
       " 81,\n",
       " 83,\n",
       " 85,\n",
       " 87,\n",
       " 89,\n",
       " 91,\n",
       " 93,\n",
       " 95,\n",
       " 97,\n",
       " 99]"
      ]
     },
     "execution_count": 50,
     "metadata": {},
     "output_type": "execute_result"
    }
   ],
   "source": [
    "list(range(1,101,2))"
   ]
  },
  {
   "cell_type": "code",
   "execution_count": 51,
   "metadata": {},
   "outputs": [
    {
     "data": {
      "text/plain": [
       "[1]"
      ]
     },
     "execution_count": 51,
     "metadata": {},
     "output_type": "execute_result"
    }
   ],
   "source": [
    "numbers = []\n",
    "numbers.append(1)\n",
    "numbers"
   ]
  },
  {
   "cell_type": "code",
   "execution_count": 52,
   "metadata": {},
   "outputs": [
    {
     "data": {
      "text/plain": [
       "[1,\n",
       " 2,\n",
       " 3,\n",
       " 4,\n",
       " 5,\n",
       " 6,\n",
       " 7,\n",
       " 8,\n",
       " 9,\n",
       " 10,\n",
       " 11,\n",
       " 12,\n",
       " 13,\n",
       " 14,\n",
       " 15,\n",
       " 16,\n",
       " 17,\n",
       " 18,\n",
       " 19,\n",
       " 20,\n",
       " 21,\n",
       " 22,\n",
       " 23,\n",
       " 24,\n",
       " 25,\n",
       " 26,\n",
       " 27,\n",
       " 28,\n",
       " 29,\n",
       " 30,\n",
       " 31,\n",
       " 32,\n",
       " 33,\n",
       " 34,\n",
       " 35,\n",
       " 36,\n",
       " 37,\n",
       " 38,\n",
       " 39,\n",
       " 40,\n",
       " 41,\n",
       " 42,\n",
       " 43,\n",
       " 44,\n",
       " 45,\n",
       " 46,\n",
       " 47,\n",
       " 48,\n",
       " 49,\n",
       " 50,\n",
       " 51,\n",
       " 52,\n",
       " 53,\n",
       " 54,\n",
       " 55,\n",
       " 56,\n",
       " 57,\n",
       " 58,\n",
       " 59,\n",
       " 60,\n",
       " 61,\n",
       " 62,\n",
       " 63,\n",
       " 64,\n",
       " 65,\n",
       " 66,\n",
       " 67,\n",
       " 68,\n",
       " 69,\n",
       " 70,\n",
       " 71,\n",
       " 72,\n",
       " 73,\n",
       " 74,\n",
       " 75,\n",
       " 76,\n",
       " 77,\n",
       " 78,\n",
       " 79,\n",
       " 80,\n",
       " 81,\n",
       " 82,\n",
       " 83,\n",
       " 84,\n",
       " 85,\n",
       " 86,\n",
       " 87,\n",
       " 88,\n",
       " 89,\n",
       " 90,\n",
       " 91,\n",
       " 92,\n",
       " 93,\n",
       " 94,\n",
       " 95,\n",
       " 96,\n",
       " 97,\n",
       " 98,\n",
       " 99,\n",
       " 100]"
      ]
     },
     "execution_count": 52,
     "metadata": {},
     "output_type": "execute_result"
    }
   ],
   "source": [
    "list1 = [x for x in range(1,101)]\n",
    "list1"
   ]
  },
  {
   "cell_type": "code",
   "execution_count": 53,
   "metadata": {},
   "outputs": [
    {
     "data": {
      "text/plain": [
       "['갑', '을', '병']"
      ]
     },
     "execution_count": 53,
     "metadata": {},
     "output_type": "execute_result"
    }
   ],
   "source": [
    "list2 = ['갑','을','병','정']\n",
    "\n",
    "# 정이라는 글자를 제외하고 새로운 리스트 생성\n",
    "list3 = []\n",
    "for x in list2:\n",
    "    if x != \"정\":\n",
    "        list3.append(x)\n",
    "\n",
    "list3"
   ]
  },
  {
   "cell_type": "code",
   "execution_count": 54,
   "metadata": {},
   "outputs": [
    {
     "data": {
      "text/plain": [
       "['갑', '을', '병']"
      ]
     },
     "execution_count": 54,
     "metadata": {},
     "output_type": "execute_result"
    }
   ],
   "source": [
    "list4 = [x for x in list2 if x != \"정\"]\n",
    "list4"
   ]
  },
  {
   "cell_type": "code",
   "execution_count": 55,
   "metadata": {},
   "outputs": [
    {
     "data": {
      "text/plain": [
       "[1,\n",
       " 3,\n",
       " 5,\n",
       " 7,\n",
       " 9,\n",
       " 11,\n",
       " 13,\n",
       " 15,\n",
       " 17,\n",
       " 19,\n",
       " 21,\n",
       " 23,\n",
       " 25,\n",
       " 27,\n",
       " 29,\n",
       " 31,\n",
       " 33,\n",
       " 35,\n",
       " 37,\n",
       " 39,\n",
       " 41,\n",
       " 43,\n",
       " 45,\n",
       " 47,\n",
       " 49,\n",
       " 51,\n",
       " 53,\n",
       " 55,\n",
       " 57,\n",
       " 59,\n",
       " 61,\n",
       " 63,\n",
       " 65,\n",
       " 67,\n",
       " 69,\n",
       " 71,\n",
       " 73,\n",
       " 75,\n",
       " 77,\n",
       " 79,\n",
       " 81,\n",
       " 83,\n",
       " 85,\n",
       " 87,\n",
       " 89,\n",
       " 91,\n",
       " 93,\n",
       " 95,\n",
       " 97,\n",
       " 99]"
      ]
     },
     "execution_count": 55,
     "metadata": {},
     "output_type": "execute_result"
    }
   ],
   "source": [
    "# 1~100 숫자 중 홀수 리스트 생성\n",
    "\n",
    "list5 = [x for x in range(1,101) if x % 2 == 1]\n",
    "list5"
   ]
  },
  {
   "cell_type": "code",
   "execution_count": 56,
   "metadata": {},
   "outputs": [
    {
     "data": {
      "text/plain": [
       "['study', 'python', 'anaconda']"
      ]
     },
     "execution_count": 56,
     "metadata": {},
     "output_type": "execute_result"
    }
   ],
   "source": [
    "list6 = [\"nice\",\"study\",\"python\",\"anaconda\",\"123\"]\n",
    "\n",
    "# 5글자 이상의 단어들만 새로운 리스트로 생성\n",
    "list7 = []\n",
    "for x in list6:\n",
    "    if len(x) >= 5:\n",
    "        list7.append(x)\n",
    "list7"
   ]
  },
  {
   "cell_type": "code",
   "execution_count": 57,
   "metadata": {},
   "outputs": [
    {
     "data": {
      "text/plain": [
       "['study', 'python', 'anaconda']"
      ]
     },
     "execution_count": 57,
     "metadata": {},
     "output_type": "execute_result"
    }
   ],
   "source": [
    "list7 = [x for x in list6 if len(x) >= 5]\n",
    "list7"
   ]
  },
  {
   "cell_type": "code",
   "execution_count": 58,
   "metadata": {},
   "outputs": [
    {
     "data": {
      "text/plain": [
       "['a', 'b', 'c', 'g']"
      ]
     },
     "execution_count": 58,
     "metadata": {},
     "output_type": "execute_result"
    }
   ],
   "source": [
    "# 소문자만 추출해서 새로운 리스트 생성\n",
    "list8 = [\"a\",\"A\",\"b\",\"c\",\"E\",\"F\",\"g\"]\n",
    "\n",
    "# islower()\n",
    "list9 = [x for x in list8 if x.islower()]\n",
    "list9"
   ]
  },
  {
   "cell_type": "code",
   "execution_count": 60,
   "metadata": {},
   "outputs": [
    {
     "name": "stdout",
     "output_type": "stream",
     "text": [
      "[2, 4, 6, 8]\n",
      "[0, 1, 4, 9, 16]\n"
     ]
    }
   ],
   "source": [
    "print([x*2 for x in [1,2,3,4]])\n",
    "print([x*x for x in range(5)])"
   ]
  },
  {
   "cell_type": "code",
   "execution_count": 61,
   "metadata": {},
   "outputs": [
    {
     "name": "stdout",
     "output_type": "stream",
     "text": [
      "[[1, 2, 3], [2, 3, 4], [3, 4, 5]]\n"
     ]
    }
   ],
   "source": [
    "list1 = [1,2,3]\n",
    "#  [[1,2,3],[2,3,4],[3,4,5]]\n",
    "\n",
    "print([[x, x+1, x+2] for x in list1])"
   ]
  },
  {
   "cell_type": "code",
   "execution_count": null,
   "metadata": {},
   "outputs": [],
   "source": []
  }
 ],
 "metadata": {
  "kernelspec": {
   "display_name": "venv",
   "language": "python",
   "name": "python3"
  },
  "language_info": {
   "codemirror_mode": {
    "name": "ipython",
    "version": 3
   },
   "file_extension": ".py",
   "mimetype": "text/x-python",
   "name": "python",
   "nbconvert_exporter": "python",
   "pygments_lexer": "ipython3",
   "version": "3.13.1"
  }
 },
 "nbformat": 4,
 "nbformat_minor": 2
}
