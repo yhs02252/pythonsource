{
 "cells": [
  {
   "cell_type": "code",
   "execution_count": 1,
   "metadata": {},
   "outputs": [
    {
     "name": "stdout",
     "output_type": "stream",
     "text": [
      "python is fun\n"
     ]
    }
   ],
   "source": [
    "# + : 결합\n",
    "str1 = \"python \"+\"is fun\"\n",
    "print(str1)"
   ]
  },
  {
   "cell_type": "code",
   "execution_count": 2,
   "metadata": {},
   "outputs": [
    {
     "name": "stdout",
     "output_type": "stream",
     "text": [
      "파이썬파이썬파이썬\n"
     ]
    }
   ],
   "source": [
    "# * : 복제\n",
    "print(\"파이썬\"*3)"
   ]
  },
  {
   "cell_type": "code",
   "execution_count": 3,
   "metadata": {},
   "outputs": [
    {
     "name": "stdout",
     "output_type": "stream",
     "text": [
      "**************************************************\n",
      "프로그램\n",
      "**************************************************\n"
     ]
    }
   ],
   "source": [
    "print(\"*\"*50)\n",
    "print(\"프로그램\")\n",
    "print(\"*\"*50)"
   ]
  },
  {
   "cell_type": "code",
   "execution_count": 4,
   "metadata": {},
   "outputs": [
    {
     "data": {
      "text/plain": [
       "34"
      ]
     },
     "execution_count": 4,
     "metadata": {},
     "output_type": "execute_result"
    }
   ],
   "source": [
    "# len() : 문자열 길이\n",
    "a = \"Life is too short, You need Python\"\n",
    "len(a)"
   ]
  },
  {
   "cell_type": "code",
   "execution_count": 5,
   "metadata": {},
   "outputs": [
    {
     "name": "stdout",
     "output_type": "stream",
     "text": [
      "e\n",
      "n\n"
     ]
    }
   ],
   "source": [
    "# 문자열 인덱싱 : 자바에서는 charAt(0)\n",
    "# 시작은 0 (왼쪽부터), 마지막 -1(오른쪽)\n",
    "\n",
    "print(a[3])\n",
    "print(a[-1])"
   ]
  },
  {
   "cell_type": "code",
   "execution_count": 6,
   "metadata": {},
   "outputs": [
    {
     "name": "stdout",
     "output_type": "stream",
     "text": [
      "Life\n",
      " is \n",
      "Life is \n",
      "too short, You need Python\n",
      "Life is too short, You need Pyt\n"
     ]
    }
   ],
   "source": [
    "# 슬라이싱 [시작:마지막] : 마지막은 포함 안함\n",
    "\n",
    "print(a[0:4])\n",
    "print(a[4:8])\n",
    "print(a[:8])\n",
    "print(a[8:])\n",
    "print(a[0:-3])"
   ]
  },
  {
   "cell_type": "code",
   "execution_count": 7,
   "metadata": {},
   "outputs": [
    {
     "name": "stdout",
     "output_type": "stream",
     "text": [
      "20241223, Sunny\n"
     ]
    }
   ],
   "source": [
    "str1 = \"20241223Sunny\"\n",
    "\n",
    "# date, weather\n",
    "date = str1[:8]\n",
    "weather = str1[8:]\n",
    "print(f\"{date}, {weather}\")"
   ]
  },
  {
   "cell_type": "code",
   "execution_count": 8,
   "metadata": {},
   "outputs": [
    {
     "name": "stdout",
     "output_type": "stream",
     "text": [
      "2024-12-23\n"
     ]
    }
   ],
   "source": [
    "# date 를 year,month,day -를 넣어서 출력\n",
    "\n",
    "year = date[:4]\n",
    "month = date[4:6]\n",
    "day = date[6:]\n",
    "\n",
    "print(year,month,day, sep=\"-\")"
   ]
  },
  {
   "cell_type": "code",
   "execution_count": 9,
   "metadata": {},
   "outputs": [
    {
     "name": "stdout",
     "output_type": "stream",
     "text": [
      "남자\n"
     ]
    }
   ],
   "source": [
    "str2 = \"001205-3234567\"\n",
    "\n",
    "# 남자 : 1,3,   여자 : 2, 4\n",
    "no = str2[7]\n",
    "\n",
    "if no == \"1\" or no == \"3\":\n",
    "    print(\"남자\")\n",
    "elif no == \"2\" or no == \"4\":\n",
    "    print(\"여자\")\n"
   ]
  },
  {
   "cell_type": "code",
   "execution_count": 10,
   "metadata": {},
   "outputs": [
    {
     "name": "stdout",
     "output_type": "stream",
     "text": [
      "남자\n"
     ]
    }
   ],
   "source": [
    "if int(no) % 2 == 1:\n",
    "    print(\"남자\")\n",
    "else:\n",
    "    print(\"여자\")"
   ]
  },
  {
   "cell_type": "code",
   "execution_count": 11,
   "metadata": {},
   "outputs": [
    {
     "name": "stdout",
     "output_type": "stream",
     "text": [
      "L i f e   i s   t o o   s h o r t ,   Y o u   n e e d   P y t h o n "
     ]
    }
   ],
   "source": [
    "for s in a:\n",
    "    print(s, end=\" \")"
   ]
  },
  {
   "cell_type": "code",
   "execution_count": 12,
   "metadata": {},
   "outputs": [
    {
     "name": "stdout",
     "output_type": "stream",
     "text": [
      "♥\n",
      "♥♥\n",
      "♥♥♥\n",
      "♥♥♥♥\n",
      "♥♥♥♥♥\n"
     ]
    }
   ],
   "source": [
    "# 숫자 입력받기 : \"54321\"\n",
    "\n",
    "# 글자의 개수만큼 반복\n",
    "# 읽어온 숫자만큼 하트 출력\n",
    "\n",
    "# ♥♥♥♥♥\n",
    "# ♥♥♥♥\n",
    "# ♥♥♥\n",
    "# ♥♥\n",
    "# ♥\n",
    "\n",
    "str3 = input(\"숫자를 입력하세요\")\n",
    "\n",
    "for i in range(len(str3)):\n",
    "    for s in range(int(str3[i])):\n",
    "        print(\"♥\", end=\"\")\n",
    "    print()"
   ]
  },
  {
   "cell_type": "code",
   "execution_count": 13,
   "metadata": {},
   "outputs": [
    {
     "data": {
      "text/plain": [
       "2"
      ]
     },
     "execution_count": 13,
     "metadata": {},
     "output_type": "execute_result"
    }
   ],
   "source": [
    "# 문자열 함수\n",
    "# count() : 문자 개수 세기\n",
    "str1 = \"hobby\"\n",
    "\n",
    "# str1 에 b 라는 문자열은 몇 개인가?\n",
    "str1.count('b')"
   ]
  },
  {
   "cell_type": "code",
   "execution_count": 14,
   "metadata": {},
   "outputs": [
    {
     "name": "stdout",
     "output_type": "stream",
     "text": [
      "14\n",
      "-1\n"
     ]
    }
   ],
   "source": [
    "# find(): 문자위치 찾기(못찾는 경우 -1)\n",
    "\n",
    "str1 = \"Python is the best choice\"\n",
    "\n",
    "# str1 문자열에 b 문자열 위치 찾기\n",
    "print(str1.find(\"b\"))\n",
    "print(str1.find(\"k\"))"
   ]
  },
  {
   "cell_type": "code",
   "execution_count": 15,
   "metadata": {},
   "outputs": [
    {
     "name": "stdout",
     "output_type": "stream",
     "text": [
      "14\n"
     ]
    }
   ],
   "source": [
    "# index() : 문자위치 찾기(못찾는 경우 ValueError )\n",
    "\n",
    "print(str1.index(\"b\"))\n",
    "# print(str1.index(\"k\"))"
   ]
  },
  {
   "cell_type": "code",
   "execution_count": 16,
   "metadata": {},
   "outputs": [
    {
     "name": "stdout",
     "output_type": "stream",
     "text": [
      "a,b,c,d,e\n"
     ]
    }
   ],
   "source": [
    "# join() : 문자열 삽입\n",
    "print(\",\".join(\"abcde\"))"
   ]
  },
  {
   "cell_type": "code",
   "execution_count": 17,
   "metadata": {},
   "outputs": [
    {
     "name": "stdout",
     "output_type": "stream",
     "text": [
      "HI\n",
      "hi\n"
     ]
    }
   ],
   "source": [
    "# upper() : 소문자 => 대문자\n",
    "# lower() : 대문자 => 소문자\n",
    "\n",
    "a = \"hi\"\n",
    "print(a.upper())\n",
    "a = \"HI\"\n",
    "print(a.lower())"
   ]
  },
  {
   "cell_type": "code",
   "execution_count": 18,
   "metadata": {},
   "outputs": [
    {
     "name": "stdout",
     "output_type": "stream",
     "text": [
      " hi \n",
      "hi \n",
      " hi \n",
      " hi\n",
      " hi \n",
      "hi\n"
     ]
    }
   ],
   "source": [
    "# 공백제거\n",
    "# lstrip(왼쪽공백제거), rstrip(오른쪽), strip(양쪽)\n",
    "\n",
    "a = \" hi \"\n",
    "print(a)\n",
    "print(a.lstrip())\n",
    "\n",
    "a = \" hi \"\n",
    "print(a)\n",
    "print(a.rstrip())\n",
    "\n",
    "a = \" hi \"\n",
    "print(a)\n",
    "print(a.strip())"
   ]
  },
  {
   "cell_type": "code",
   "execution_count": 19,
   "metadata": {},
   "outputs": [
    {
     "data": {
      "text/plain": [
       "'Your leg is too short'"
      ]
     },
     "execution_count": 19,
     "metadata": {},
     "output_type": "execute_result"
    }
   ],
   "source": [
    "# replace() : 문자열 변경\n",
    "a = \"Life is too short\"\n",
    "a.replace(\"Life\",\"Your leg\")"
   ]
  },
  {
   "cell_type": "code",
   "execution_count": 20,
   "metadata": {},
   "outputs": [
    {
     "name": "stdout",
     "output_type": "stream",
     "text": [
      "['Life', 'is', 'too', 'short']\n"
     ]
    },
    {
     "data": {
      "text/plain": [
       "['a', 'b', 'c', 'd']"
      ]
     },
     "execution_count": 20,
     "metadata": {},
     "output_type": "execute_result"
    }
   ],
   "source": [
    "# split() : 문자열 나누기\n",
    "print(a.split()) # 공백을 기준으로 문자열 분리\n",
    "\n",
    "b = \"a:b:c:d\"\n",
    "b.split(\":\")"
   ]
  },
  {
   "cell_type": "code",
   "execution_count": 21,
   "metadata": {},
   "outputs": [
    {
     "name": "stdout",
     "output_type": "stream",
     "text": [
      "True\n",
      "False\n",
      "True\n"
     ]
    }
   ],
   "source": [
    "# 문자열 구성 파악\n",
    "# isalpha(), islower(), isupper()...\n",
    "\n",
    "print(\"12345\".isdigit())\n",
    "print(\"12alp\".isalpha())\n",
    "print(\"12alp\".isalnum())"
   ]
  },
  {
   "cell_type": "code",
   "execution_count": 22,
   "metadata": {},
   "outputs": [
    {
     "name": "stdout",
     "output_type": "stream",
     "text": [
      "kENNry"
     ]
    }
   ],
   "source": [
    "name = \"KennRY\"\n",
    "\n",
    "# 대문자는소문자로, 소문자로 대문자로 변경후 출력\n",
    "\n",
    "for s in name:\n",
    "    if s.islower():\n",
    "        print(s.upper(), end=\"\")\n",
    "    else:\n",
    "        print(s.lower(), end=\"\")"
   ]
  },
  {
   "cell_type": "code",
   "execution_count": 23,
   "metadata": {},
   "outputs": [
    {
     "data": {
      "text/plain": [
       "'kENNry'"
      ]
     },
     "execution_count": 23,
     "metadata": {},
     "output_type": "execute_result"
    }
   ],
   "source": [
    "# swapcase() : 대문자=>소문자,소문자=>대문자\n",
    "name.swapcase()"
   ]
  },
  {
   "cell_type": "code",
   "execution_count": 24,
   "metadata": {},
   "outputs": [
    {
     "name": "stdout",
     "output_type": "stream",
     "text": [
      "10년 후 날짜는 2034년 12월 23일\n"
     ]
    }
   ],
   "source": [
    "# 날짜 입력받은 후 10년 후 날짜 출력\n",
    "# 2024/12/23 => 2034년 12월 23일\n",
    "\n",
    "date = input(\"날짜입력(년/월/일)\")\n",
    "\n",
    "date = date.split(\"/\")\n",
    "\n",
    "print(f\"10년 후 날짜는 {int(date[0]) + 10}년 {date[1]}월 {date[2]}일\")"
   ]
  },
  {
   "cell_type": "code",
   "execution_count": 25,
   "metadata": {},
   "outputs": [
    {
     "name": "stdout",
     "output_type": "stream",
     "text": [
      "생성된 비밀번호 : nav51!\n"
     ]
    }
   ],
   "source": [
    "str1 = \"https://naver.com\"\n",
    "\n",
    "# 규칙1 : https:// 제외 => naver.com\n",
    "str1 = str1.replace(\"https://\",\"\")\n",
    "\n",
    "# 규칙2 : 처음 만나는 점 이후 부분은 제외 => naver\n",
    "str1 = str1[:str1.find(\".\")]\n",
    "\n",
    "# 규칙3 : 남은 글자 중 처음 세자리 + 글자개수, 글자 내 e 개수, ! 로 구성\n",
    "e_count = str1.count(\"e\")\n",
    "# 생성된 비밀번호 : nav51!\n",
    "# 문자 + 숫자 => 파이썬에서는 오류발생\n",
    "# 문자 + str(숫자) => 파이썬에서는 오류발생\n",
    "password = str1[:3] + str(len(str1)) + str(e_count) + '!'\n",
    "print(f\"생성된 비밀번호 : {password}\")"
   ]
  },
  {
   "cell_type": "code",
   "execution_count": null,
   "metadata": {},
   "outputs": [],
   "source": []
  }
 ],
 "metadata": {
  "kernelspec": {
   "display_name": "venv",
   "language": "python",
   "name": "python3"
  },
  "language_info": {
   "codemirror_mode": {
    "name": "ipython",
    "version": 3
   },
   "file_extension": ".py",
   "mimetype": "text/x-python",
   "name": "python",
   "nbconvert_exporter": "python",
   "pygments_lexer": "ipython3",
   "version": "3.13.1"
  }
 },
 "nbformat": 4,
 "nbformat_minor": 2
}
