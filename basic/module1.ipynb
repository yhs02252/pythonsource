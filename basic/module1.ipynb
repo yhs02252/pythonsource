{
 "cells": [
  {
   "cell_type": "markdown",
   "metadata": {},
   "source": [
    "- 모듈 : 함수, 변수, 클래스를 모아놓은 파이썬 파일\n",
    "-       .py 로 작성된 파일은 전부 모듈\n",
    "\n",
    "\n",
    "- 파이썬에서 제공되는 기본 모듈 사용하기\n",
    "- 모듈 불러오기\n",
    "    - 1번 방법 : import 모듈명 (모듈 전체 불러오기)\n",
    "    - 2번 방법 : from 모듈명 import 함수명 (모듈 일부분 불러오기)"
   ]
  },
  {
   "cell_type": "code",
   "execution_count": 11,
   "metadata": {},
   "outputs": [
    {
     "name": "stdout",
     "output_type": "stream",
     "text": [
      "['__doc__', '__loader__', '__name__', '__package__', '__spec__', 'acos', 'acosh', 'asin', 'asinh', 'atan', 'atan2', 'atanh', 'cbrt', 'ceil', 'comb', 'copysign', 'cos', 'cosh', 'degrees', 'dist', 'e', 'erf', 'erfc', 'exp', 'exp2', 'expm1', 'fabs', 'factorial', 'floor', 'fma', 'fmod', 'frexp', 'fsum', 'gamma', 'gcd', 'hypot', 'inf', 'isclose', 'isfinite', 'isinf', 'isnan', 'isqrt', 'lcm', 'ldexp', 'lgamma', 'log', 'log10', 'log1p', 'log2', 'modf', 'nan', 'nextafter', 'perm', 'pi', 'pow', 'prod', 'radians', 'remainder', 'sin', 'sinh', 'sqrt', 'sumprod', 'tan', 'tanh', 'tau', 'trunc', 'ulp']\n",
      "4\n",
      "0.8414709848078965\n",
      "0.5403023058681398\n",
      "3\n"
     ]
    }
   ],
   "source": [
    "import math\n",
    "\n",
    "print(dir(math))  # math 가 제공해주는 함수들\n",
    "\n",
    "print(math.ceil(3.14))\n",
    "print(math.sin(1))\n",
    "print(math.cos(1))\n",
    "print(math.floor(3.14))\n"
   ]
  },
  {
   "cell_type": "code",
   "execution_count": 8,
   "metadata": {},
   "outputs": [
    {
     "name": "stdout",
     "output_type": "stream",
     "text": [
      "0.6946932825475925\n",
      "84\n",
      "13.105071476726666\n",
      "2\n",
      "[1, 3, 5, 6, 7, 2, 4]\n",
      "[1, 5]\n"
     ]
    }
   ],
   "source": [
    "import random\n",
    "\n",
    "# Math.random : 자바\n",
    "# 0.0 <= x < 1.0\n",
    "print(random.random())\n",
    "print(random.randrange(40,100))\n",
    "print(random.uniform(10,20))\n",
    "\n",
    "print(random.choice([1,2,3,4,5,6,7]))\n",
    "list1 = [1,2,3,4,5,6,7]\n",
    "random.shuffle(list1)\n",
    "print(list1)\n",
    "\n",
    "# 리스트에서 무작위로 2개 추출\n",
    "print(random.sample(list1, k=2))"
   ]
  },
  {
   "cell_type": "code",
   "execution_count": 23,
   "metadata": {},
   "outputs": [
    {
     "data": {
      "text/plain": [
       "datetime.datetime(2025, 1, 2, 17, 16, 54, 744919)"
      ]
     },
     "execution_count": 23,
     "metadata": {},
     "output_type": "execute_result"
    }
   ],
   "source": [
    "import datetime\n",
    "\n",
    "datetime.datetime.now()"
   ]
  },
  {
   "cell_type": "code",
   "execution_count": 33,
   "metadata": {},
   "outputs": [
    {
     "name": "stdout",
     "output_type": "stream",
     "text": [
      "0.8414709848078965\n",
      "0.5403023058681398\n",
      "1\n",
      "2\n",
      "13\n",
      "[5, 1]\n",
      "3\n",
      "4 5 7 출력\n",
      "4 2 4 출력\n",
      "2025/01/02 18:25:37\n"
     ]
    }
   ],
   "source": [
    "from math import sin,cos,floor,ceil\n",
    "from random import randrange, sample, choice\n",
    "from datetime import datetime\n",
    "\n",
    "print(sin(1))\n",
    "print(cos(1))\n",
    "print(floor(1.15))\n",
    "print(ceil(1.15))\n",
    "\n",
    "print(randrange(10,20))\n",
    "print(sample(list1, k=2))\n",
    "print(choice(list1))\n",
    "\n",
    "print(\"{} {} {} 출력\".format(choice(list1),choice(list1),choice(list1)))\n",
    "print(f\"{choice(list1)} {choice(list1)} {choice(list1)} 출력\")\n",
    "print(datetime.now().strftime('%Y/%m/%d %H:%M:%S'))"
   ]
  },
  {
   "cell_type": "code",
   "execution_count": 34,
   "metadata": {},
   "outputs": [
    {
     "name": "stdout",
     "output_type": "stream",
     "text": [
      "0.9086334961158832\n"
     ]
    }
   ],
   "source": [
    "from math import sin as s\n",
    "\n",
    "print(s(1.14))"
   ]
  },
  {
   "cell_type": "code",
   "execution_count": 35,
   "metadata": {},
   "outputs": [
    {
     "name": "stdout",
     "output_type": "stream",
     "text": [
      "2\n"
     ]
    }
   ],
   "source": [
    "import math as m\n",
    "\n",
    "print(m.ceil(1.5))"
   ]
  },
  {
   "cell_type": "markdown",
   "metadata": {},
   "source": [
    " - sleep(시간) : 지정한 시간 간격으로 출력"
   ]
  },
  {
   "cell_type": "code",
   "execution_count": 36,
   "metadata": {},
   "outputs": [
    {
     "name": "stdout",
     "output_type": "stream",
     "text": [
      "0\n",
      "1\n",
      "2\n",
      "3\n",
      "4\n",
      "5\n",
      "6\n",
      "7\n",
      "8\n",
      "9\n"
     ]
    }
   ],
   "source": [
    "import time\n",
    "\n",
    "for i in range(10):\n",
    "    print(i)\n",
    "    time.sleep(1)"
   ]
  }
 ],
 "metadata": {
  "kernelspec": {
   "display_name": "venv",
   "language": "python",
   "name": "python3"
  },
  "language_info": {
   "codemirror_mode": {
    "name": "ipython",
    "version": 3
   },
   "file_extension": ".py",
   "mimetype": "text/x-python",
   "name": "python",
   "nbconvert_exporter": "python",
   "pygments_lexer": "ipython3",
   "version": "3.13.1"
  }
 },
 "nbformat": 4,
 "nbformat_minor": 2
}
