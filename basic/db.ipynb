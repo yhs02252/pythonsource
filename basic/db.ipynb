{
 "cells": [
  {
   "cell_type": "markdown",
   "metadata": {
    "vscode": {
     "languageId": "plaintext"
    }
   },
   "source": [
    "#### 파이썬\n",
    " - 내부 DB 존재 : SQLite\n",
    " - 외부 DB 연동 가능 : oracle, mongoDB"
   ]
  },
  {
   "cell_type": "code",
   "execution_count": 12,
   "metadata": {},
   "outputs": [
    {
     "name": "stdout",
     "output_type": "stream",
     "text": [
      "3.45.3\n"
     ]
    }
   ],
   "source": [
    "import sqlite3\n",
    "\n",
    "print(sqlite3.sqlite_version)"
   ]
  },
  {
   "cell_type": "code",
   "execution_count": 6,
   "metadata": {},
   "outputs": [
    {
     "name": "stdout",
     "output_type": "stream",
     "text": [
      "2025-01-03 11:09:36.755020\n"
     ]
    },
    {
     "data": {
      "text/plain": [
       "'2025-01-03 11:09:36'"
      ]
     },
     "execution_count": 6,
     "metadata": {},
     "output_type": "execute_result"
    }
   ],
   "source": [
    "from datetime import datetime as dt\n",
    "\n",
    "now = dt.now()\n",
    "print(now)\n",
    "\n",
    "# format\n",
    "today = now.strftime(\"%Y-%m-%d %H:%M:%S\")\n",
    "today"
   ]
  },
  {
   "cell_type": "code",
   "execution_count": 45,
   "metadata": {},
   "outputs": [],
   "source": [
    "# db 생성\n",
    "# isolation_level : auto commit 지원 여부\n",
    "\n",
    "conn = sqlite3.connect(\"./test.db\", isolation_level=None)"
   ]
  },
  {
   "cell_type": "code",
   "execution_count": 13,
   "metadata": {},
   "outputs": [
    {
     "data": {
      "text/plain": [
       "<sqlite3.Cursor at 0x17d6b809ec0>"
      ]
     },
     "execution_count": 13,
     "metadata": {},
     "output_type": "execute_result"
    }
   ],
   "source": [
    "# cursor\n",
    "\n",
    "cursor = conn.cursor()\n",
    "\n",
    "# 테이블 생성\n",
    "# TEXT : varchar2\n",
    "# 숫자 : NUMBERIC, INTEGER\n",
    "sql = \"CREATE TABLE IF NOT EXISTS users(id INTEGER PRIMARY KEY, username TEXT, email TEXT, phone TEXT, regdate TEXT)\"\n",
    "cursor.execute(sql)"
   ]
  },
  {
   "cell_type": "code",
   "execution_count": 14,
   "metadata": {},
   "outputs": [
    {
     "data": {
      "text/plain": [
       "<sqlite3.Cursor at 0x17d6b809ec0>"
      ]
     },
     "execution_count": 14,
     "metadata": {},
     "output_type": "execute_result"
    }
   ],
   "source": [
    "# 삽입\n",
    "now = dt.now()\n",
    "today = now.strftime(\"%Y-%m-%d %H:%M:%S\")\n",
    "\n",
    "sql = \"INSERT INTO users(id,username,email,phone,regdate) VALUES(1, 'Kim' , 'kim@naver.com' , '010-1234-1234', ?)\"\n",
    "cursor.execute(sql, (today,))"
   ]
  },
  {
   "cell_type": "code",
   "execution_count": 15,
   "metadata": {},
   "outputs": [
    {
     "data": {
      "text/plain": [
       "<sqlite3.Cursor at 0x17d6b809ec0>"
      ]
     },
     "execution_count": 15,
     "metadata": {},
     "output_type": "execute_result"
    }
   ],
   "source": [
    "# 삽입\n",
    "now = dt.now()\n",
    "today = now.strftime(\"%Y-%m-%d %H:%M:%S\")\n",
    "\n",
    "sql = \"INSERT INTO users(id,username,email,phone,regdate) VALUES(?,?,?,?,?)\"\n",
    "cursor.execute(sql, (2, 'Choi' , 'choi@naver.com' , '010-567-567', today))"
   ]
  },
  {
   "cell_type": "code",
   "execution_count": 49,
   "metadata": {},
   "outputs": [
    {
     "data": {
      "text/plain": [
       "<sqlite3.Cursor at 0x17d6b809ec0>"
      ]
     },
     "execution_count": 49,
     "metadata": {},
     "output_type": "execute_result"
    }
   ],
   "source": [
    "now = dt.now()\n",
    "today = now.strftime(\"%Y-%m-%d %H:%M:%S\")\n",
    "\n",
    "user_list = (\n",
    "    (3, \"Park\", \"park@naver.com\", \"010-1234-5678\", today),\n",
    "    (4, \"Lee\", \"lee@naver.com\", \"010-5678-1234\", today),\n",
    "    (5, \"Yoo\", \"yoo@naver.com\", \"010-1324-1324\", today)\n",
    ")\n",
    "\n",
    "sql = \"INSERT INTO users(id,username,email,phone,regdate) VALUES(?,?,?,?,?)\"\n",
    "cursor.executemany(sql, user_list)"
   ]
  },
  {
   "cell_type": "code",
   "execution_count": 99,
   "metadata": {},
   "outputs": [
    {
     "data": {
      "text/plain": [
       "(1, 'Kim', 'kim@naver.com', '010-7896-7896', '2025-01-03 11:51:39')"
      ]
     },
     "execution_count": 99,
     "metadata": {},
     "output_type": "execute_result"
    }
   ],
   "source": [
    "# 조회 : fetchone(), fetchmany(), fetchall()\n",
    "\n",
    "sql = \"SELECT * FROM users\"\n",
    "cursor.execute(sql)\n",
    "\n",
    "cursor.fetchone()"
   ]
  },
  {
   "cell_type": "code",
   "execution_count": 100,
   "metadata": {},
   "outputs": [
    {
     "data": {
      "text/plain": [
       "[(2, 'Choi', 'choi@naver.com', '010-5678-5678', '2025-01-03 11:54:54'),\n",
       " (3, 'Park', 'park@naver.com', '010-1234-5678', '2025-01-03 12:20:53'),\n",
       " (4, 'Lee', 'lee@naver.com', '010-5678-1234', '2025-01-03 12:20:53'),\n",
       " (5, 'Yoo', 'yoo@naver.com', '010-1324-1324', '2025-01-03 12:20:53')]"
      ]
     },
     "execution_count": 100,
     "metadata": {},
     "output_type": "execute_result"
    }
   ],
   "source": [
    "cursor.fetchmany(size=4)"
   ]
  },
  {
   "cell_type": "code",
   "execution_count": 65,
   "metadata": {},
   "outputs": [
    {
     "data": {
      "text/plain": [
       "[(1, 'Kim', 'kim@naver.com', '010-7896-7896', '2025-01-03 11:51:39'),\n",
       " (2, 'Choi', 'choi@naver.com', '010-5678-5678', '2025-01-03 11:54:54'),\n",
       " (3, 'Park', 'park@naver.com', '010-1234-5678', '2025-01-03 12:20:53'),\n",
       " (4, 'Lee', 'lee@naver.com', '010-5678-1234', '2025-01-03 12:20:53'),\n",
       " (5, 'Yoo', 'yoo@naver.com', '010-1324-1324', '2025-01-03 12:20:53')]"
      ]
     },
     "execution_count": 65,
     "metadata": {},
     "output_type": "execute_result"
    }
   ],
   "source": [
    "sql = \"SELECT * FROM users\"\n",
    "cursor.execute(sql)\n",
    "\n",
    "cursor.fetchall()"
   ]
  },
  {
   "cell_type": "code",
   "execution_count": 2,
   "metadata": {},
   "outputs": [
    {
     "ename": "NameError",
     "evalue": "name 'cursor' is not defined",
     "output_type": "error",
     "traceback": [
      "\u001b[1;31m---------------------------------------------------------------------------\u001b[0m",
      "\u001b[1;31mNameError\u001b[0m                                 Traceback (most recent call last)",
      "Cell \u001b[1;32mIn[2], line 2\u001b[0m\n\u001b[0;32m      1\u001b[0m sql \u001b[38;5;241m=\u001b[39m \u001b[38;5;124m\"\u001b[39m\u001b[38;5;124mSELECT * FROM users\u001b[39m\u001b[38;5;124m\"\u001b[39m\n\u001b[1;32m----> 2\u001b[0m \u001b[43mcursor\u001b[49m\u001b[38;5;241m.\u001b[39mexecute(sql)\n\u001b[0;32m      4\u001b[0m \u001b[38;5;28;01mfor\u001b[39;00m row \u001b[38;5;129;01min\u001b[39;00m cursor\u001b[38;5;241m.\u001b[39mfetchall():\n\u001b[0;32m      5\u001b[0m     \u001b[38;5;28mprint\u001b[39m(row)\n",
      "\u001b[1;31mNameError\u001b[0m: name 'cursor' is not defined"
     ]
    }
   ],
   "source": [
    "sql = \"SELECT * FROM users\"\n",
    "cursor.execute(sql)\n",
    "\n",
    "for row in cursor.fetchall():\n",
    "    print(row)"
   ]
  },
  {
   "cell_type": "code",
   "execution_count": 73,
   "metadata": {},
   "outputs": [
    {
     "data": {
      "text/plain": [
       "(2, 'Choi', 'choi@naver.com', '010-5678-5678', '2025-01-03 11:54:54')"
      ]
     },
     "execution_count": 73,
     "metadata": {},
     "output_type": "execute_result"
    }
   ],
   "source": [
    "# 특정 id 조회\n",
    "\n",
    "sql = \"SELECT * FROM users WHERE id=?\"\n",
    "cursor.execute(sql,(2,))\n",
    "\n",
    "cursor.fetchone()"
   ]
  },
  {
   "cell_type": "code",
   "execution_count": 54,
   "metadata": {},
   "outputs": [
    {
     "data": {
      "text/plain": [
       "(3, 'Park', 'park@naver.com', '010-1234-5678', '2025-01-03 12:20:53')"
      ]
     },
     "execution_count": 54,
     "metadata": {},
     "output_type": "execute_result"
    }
   ],
   "source": [
    "# 특정 id 조회\n",
    "# 포맷터 포함 가능 \n",
    "\n",
    "sql = \"SELECT * FROM users WHERE id=%d\"\n",
    "cursor.execute(sql % 3)\n",
    "\n",
    "cursor.fetchone()"
   ]
  },
  {
   "cell_type": "code",
   "execution_count": 55,
   "metadata": {},
   "outputs": [
    {
     "data": {
      "text/plain": [
       "(4, 'Lee', 'lee@naver.com', '010-5678-1234', '2025-01-03 12:20:53')"
      ]
     },
     "execution_count": 55,
     "metadata": {},
     "output_type": "execute_result"
    }
   ],
   "source": [
    "# dict 사용\n",
    "sql = \"SELECT * FROM users WHERE id = :id\"\n",
    "cursor.execute(sql, {\"id\":4})\n",
    "\n",
    "cursor.fetchone()"
   ]
  },
  {
   "cell_type": "code",
   "execution_count": 56,
   "metadata": {},
   "outputs": [
    {
     "data": {
      "text/plain": [
       "[(2, 'Choi', 'choi@naver.com', '010-5678-5678', '2025-01-03 11:54:54'),\n",
       " (4, 'Lee', 'lee@naver.com', '010-5678-1234', '2025-01-03 12:20:53')]"
      ]
     },
     "execution_count": 56,
     "metadata": {},
     "output_type": "execute_result"
    }
   ],
   "source": [
    "# id가 2 or 4\n",
    "\n",
    "sql = \"SELECT * FROM users WHERE id IN (?,?)\"\n",
    "cursor.execute(sql,(2,4))\n",
    "\n",
    "cursor.fetchall()"
   ]
  },
  {
   "cell_type": "code",
   "execution_count": 57,
   "metadata": {},
   "outputs": [
    {
     "data": {
      "text/plain": [
       "[(2, 'Choi', 'choi@naver.com', '010-5678-5678', '2025-01-03 11:54:54'),\n",
       " (4, 'Lee', 'lee@naver.com', '010-5678-1234', '2025-01-03 12:20:53')]"
      ]
     },
     "execution_count": 57,
     "metadata": {},
     "output_type": "execute_result"
    }
   ],
   "source": [
    "# id가 2 or 4 (format 사용)\n",
    "\n",
    "sql = \"SELECT * FROM users WHERE id IN (%d,%d)\"\n",
    "cursor.execute(sql % (2,4))\n",
    "\n",
    "cursor.fetchall()"
   ]
  },
  {
   "cell_type": "code",
   "execution_count": 58,
   "metadata": {},
   "outputs": [
    {
     "data": {
      "text/plain": [
       "[(2, 'Choi', 'choi@naver.com', '010-5678-5678', '2025-01-03 11:54:54'),\n",
       " (4, 'Lee', 'lee@naver.com', '010-5678-1234', '2025-01-03 12:20:53')]"
      ]
     },
     "execution_count": 58,
     "metadata": {},
     "output_type": "execute_result"
    }
   ],
   "source": [
    "# id가 2 or 4 (format 사용)\n",
    "\n",
    "sql = \"SELECT * FROM users WHERE id=:id1 or id=:id2\"\n",
    "cursor.execute(sql, {\"id1\":2, \"id2\":4})\n",
    "\n",
    "cursor.fetchall()"
   ]
  },
  {
   "cell_type": "code",
   "execution_count": 59,
   "metadata": {},
   "outputs": [],
   "source": [
    "# 수정\n",
    "\n",
    "sql=\"UPDATE users SET phone=? WHERE id=?\"\n",
    "cursor.execute(sql, (\"010-7896-7896\", 1))\n",
    "conn.commit()"
   ]
  },
  {
   "cell_type": "code",
   "execution_count": 102,
   "metadata": {},
   "outputs": [],
   "source": [
    "# 수정\n",
    "\n",
    "sql=\"UPDATE users SET phone='%s' WHERE id=%d\"\n",
    "cursor.execute(sql % (\"010-7896-7896\", 4))\n",
    "conn.commit()"
   ]
  },
  {
   "cell_type": "code",
   "execution_count": 103,
   "metadata": {},
   "outputs": [],
   "source": [
    "# 수정\n",
    "\n",
    "sql=\"UPDATE users SET phone=:username WHERE id=:id\"\n",
    "cursor.execute(sql, {\"username\":\"Im\", \"id\":3})\n",
    "conn.commit()"
   ]
  },
  {
   "cell_type": "code",
   "execution_count": 104,
   "metadata": {},
   "outputs": [],
   "source": [
    "# 삭제\n",
    "\n",
    "sql=\"DELETE FROM users  WHERE id=?\"\n",
    "cursor.execute(sql,(3,))\n",
    "conn.commit()"
   ]
  },
  {
   "cell_type": "code",
   "execution_count": 105,
   "metadata": {},
   "outputs": [],
   "source": [
    "# 삭제\n",
    "\n",
    "sql=\"DELETE FROM users  WHERE id=%d\"\n",
    "cursor.execute(sql % 4)\n",
    "conn.commit()"
   ]
  },
  {
   "cell_type": "code",
   "execution_count": 106,
   "metadata": {},
   "outputs": [],
   "source": [
    "# 삭제\n",
    "\n",
    "sql=\"DELETE FROM users  WHERE id=:id\"\n",
    "cursor.execute(sql ,{\"id\": 5})\n",
    "conn.commit()"
   ]
  }
 ],
 "metadata": {
  "kernelspec": {
   "display_name": "venv",
   "language": "python",
   "name": "python3"
  },
  "language_info": {
   "codemirror_mode": {
    "name": "ipython",
    "version": 3
   },
   "file_extension": ".py",
   "mimetype": "text/x-python",
   "name": "python",
   "nbconvert_exporter": "python",
   "pygments_lexer": "ipython3",
   "version": "3.13.1"
  }
 },
 "nbformat": 4,
 "nbformat_minor": 2
}
