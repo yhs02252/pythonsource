{
 "cells": [
  {
   "cell_type": "markdown",
   "metadata": {},
   "source": [
    "#### 정규표현식(Regular Expression)\n",
    "- 특정한 패턴과 일치하는 문자열을 검색, 치환, 제거하는 기능 지원\n",
    "- re 모듈\n",
    "- 메타 문자 : ^ $ * + ? {} [] / | ()\n",
    "- 정규식을 이용한 문자열 검색\n",
    "\n",
    "    - match() : 문자열의 처음부터 정규식과 매치되는지 검사\n",
    "\n",
    "    - search() : 문자열 전체를 검색하여 정규식과 매치되는지 조사\n",
    "    \n",
    "    - findall() : 정규식과 매치되는 모든 문자열을 리스트로 리턴\n",
    "    \n",
    "    - finditer() : 정규식과 매치되는 모든 문자열을 iterator 객체로 리턴"
   ]
  },
  {
   "cell_type": "code",
   "execution_count": 1,
   "metadata": {},
   "outputs": [
    {
     "name": "stdout",
     "output_type": "stream",
     "text": [
      "<re.Match object; span=(0, 1), match='a'>\n"
     ]
    }
   ],
   "source": [
    "# [abc] : 문자열에 a or b or c 가 매치 되는지 찾기\n",
    "\n",
    "import re\n",
    "\n",
    "string = \"a\"\n",
    "p = re.compile(\"[abc]\")\n",
    "\n",
    "m = p.match(string)\n",
    "print(m)"
   ]
  },
  {
   "cell_type": "code",
   "execution_count": 8,
   "metadata": {},
   "outputs": [
    {
     "name": "stdout",
     "output_type": "stream",
     "text": [
      "<re.Match object; span=(0, 3), match='DAA'>\n",
      "0\n",
      "3\n",
      "DAA\n",
      "(0, 3)\n"
     ]
    }
   ],
   "source": [
    "# . : \\n을 제외한 모든 문자를 포함\n",
    "p = re.compile(\"D.A\")\n",
    "m = p.match(\"DAA\")\n",
    "print(m)\n",
    "print(m.start()) # 첫 포함 위치\n",
    "print(m.end()) # 마지막 포함 위치\n",
    "print(m.group()) # match 한 요소\n",
    "print(m.span()) # 포함된 결과 위치 정보"
   ]
  },
  {
   "cell_type": "code",
   "execution_count": null,
   "metadata": {},
   "outputs": [],
   "source": [
    "# 개수와 관련된 정규식\n",
    "# * : 반복, 0 ~ 무한대\n",
    "# ca*t = ct, cat, caaaaaaaat\n",
    "\n",
    "# + : 반복, 1 ~ 무한대\n",
    "# ca+t = ct(X), cat, caaaaaaaat\n",
    "\n",
    "# {m} : m - 원하는 반복 횟수\n",
    "# ca{2}t : cat(X), caat(O)\n",
    "\n",
    "# {m, n} : m - 원하는 최소 반복 횟수, n - 원하는 최대 반복 횟수\n",
    "# ca{2, 5}t : cat(X), caat(O), caaaaat\n",
    "\n",
    "# ? :  0 ~ 1\n",
    "# ab?c : abc, ac"
   ]
  },
  {
   "cell_type": "code",
   "execution_count": 26,
   "metadata": {},
   "outputs": [
    {
     "name": "stdout",
     "output_type": "stream",
     "text": [
      "<re.Match object; span=(0, 3), match='abc'>\n",
      "<re.Match object; span=(0, 2), match='ac'>\n",
      "<re.Match object; span=(0, 12), match='abbbbbbbbbbc'>\n",
      "None\n",
      "<re.Match object; span=(0, 3), match='abc'>\n",
      "<re.Match object; span=(0, 8), match='abbbbbbc'>\n",
      "<re.Match object; span=(0, 4), match='abbc'>\n"
     ]
    }
   ],
   "source": [
    "p = re.compile(\"ab?c\")\n",
    "m = p.match(\"abc\")\n",
    "print(m)\n",
    "\n",
    "p = re.compile(\"ab*c\")\n",
    "m = p.match(\"ac\")\n",
    "print(m)\n",
    "\n",
    "p = re.compile(\"ab*c\")\n",
    "m = p.match(\"abbbbbbbbbbc\")\n",
    "print(m)\n",
    "\n",
    "p = re.compile(\"ab+c\")\n",
    "m = p.match(\"ac\")\n",
    "print(m)\n",
    "\n",
    "p = re.compile(\"ab+c\")\n",
    "m = p.match(\"abc\")\n",
    "print(m)\n",
    "\n",
    "p = re.compile(\"ab{6}c\")\n",
    "m = p.match(\"abbbbbbc\")\n",
    "print(m)\n",
    "\n",
    "p = re.compile(\"ab{2,5}c\")\n",
    "m = p.match(\"abbc\")\n",
    "print(m)"
   ]
  },
  {
   "cell_type": "code",
   "execution_count": 46,
   "metadata": {},
   "outputs": [
    {
     "name": "stdout",
     "output_type": "stream",
     "text": [
      "<re.Match object; span=(0, 1), match='a'>\n",
      "<re.Match object; span=(0, 1), match='a'>\n",
      "None\n"
     ]
    }
   ],
   "source": [
    "# [a-zA-z] : 모든 알파벳\n",
    "# [0-9] : 모든 숫자\n",
    "# [^bcd] : bcd를 제외한\n",
    "\n",
    "p = re.compile(\"[a-gA-g]\")\n",
    "m = p.match(\"abc1234\")\n",
    "print(m)\n",
    "\n",
    "p = re.compile(\"[a-zA-Z0-9]\")\n",
    "m = p.match(\"abc1234\")\n",
    "print(m)\n",
    "\n",
    "p = re.compile(\"[^a-zA-Z0-9]\")\n",
    "m = p.match(\"abc1234\")\n",
    "print(m)"
   ]
  },
  {
   "cell_type": "markdown",
   "metadata": {},
   "source": [
    "- 자주 사용하는 문자 클래스\n",
    "    - \\b == [0~9], \\D == [^0~9]\n",
    "    - \\w == [a~zA~Z0~9], \\W == [^a~zA~Z0~9]\n",
    "    - \\s == [\\t\\n\\r\\f\\v], \\S == [^\\t\\n\\r\\f\\v] (공백)"
   ]
  },
  {
   "cell_type": "code",
   "execution_count": 28,
   "metadata": {},
   "outputs": [
    {
     "name": "stdout",
     "output_type": "stream",
     "text": [
      "<re.Match object; span=(0, 7), match='abc1234'>\n"
     ]
    }
   ],
   "source": [
    "p = re.compile(r\"[\\w]+\")\n",
    "m = p.match(\"abc1234\")\n",
    "print(m)"
   ]
  },
  {
   "cell_type": "code",
   "execution_count": 32,
   "metadata": {},
   "outputs": [
    {
     "name": "stdout",
     "output_type": "stream",
     "text": [
      "None\n",
      "<re.Match object; span=(0, 3), match='a.b'>\n"
     ]
    }
   ],
   "source": [
    "# [.] or \\. : 마침표 자체를 의미\n",
    "\n",
    "p = re.compile(r\"a[.]b\")\n",
    "m = p.match(\"acb\")\n",
    "print(m)\n",
    "\n",
    "m = p.match(\"a.b\")\n",
    "print(m)"
   ]
  },
  {
   "cell_type": "code",
   "execution_count": 48,
   "metadata": {},
   "outputs": [
    {
     "name": "stdout",
     "output_type": "stream",
     "text": [
      "None\n",
      "<re.Match object; span=(2, 8), match='python'>\n"
     ]
    }
   ],
   "source": [
    "# .search : 첫번째 요소가 포함되지 않아도 다음요소부터 계속 찾아줌 => match 객체로 리턴\n",
    "# .match : 첫번째 요소가 포함되지 않는다면 중지\n",
    "\n",
    "p = re.compile(\"[a-z]+\")\n",
    "m = p.match(\"3 python\")\n",
    "print(m)\n",
    "\n",
    "m = p.search(\"3 python\")\n",
    "print(m)"
   ]
  },
  {
   "cell_type": "code",
   "execution_count": 54,
   "metadata": {},
   "outputs": [
    {
     "name": "stdout",
     "output_type": "stream",
     "text": [
      "['ame', 'of', 'ife', 'is', 'too', 'short']\n",
      "<callable_iterator object at 0x0000017530EB1E70>\n",
      "ame\n",
      "of\n",
      "ife\n",
      "is\n",
      "too\n",
      "short\n"
     ]
    }
   ],
   "source": [
    "result = p.findall(\"Game of Life is too short\")\n",
    "print(result)\n",
    "\n",
    "result = p.finditer(\"Game of Life is too short\")\n",
    "print(result)\n",
    "\n",
    "for i in result:\n",
    "    print(i.group())"
   ]
  },
  {
   "cell_type": "code",
   "execution_count": 55,
   "metadata": {},
   "outputs": [
    {
     "name": "stdout",
     "output_type": "stream",
     "text": [
      "<re.Match object; span=(0, 6), match='abcdef'>\n"
     ]
    }
   ],
   "source": [
    "# compile과 match를 동시에 실행\n",
    "m = re.match(r\"[a-z]+\",\"abcdef\")\n",
    "print(m)"
   ]
  },
  {
   "cell_type": "code",
   "execution_count": 63,
   "metadata": {},
   "outputs": [
    {
     "name": "stdout",
     "output_type": "stream",
     "text": [
      "python java\n",
      "['python', 'java']\n"
     ]
    }
   ],
   "source": [
    "string = \"python VS java\"\n",
    "\n",
    "spString = string.split(\" VS \")\n",
    "print(spString[0],spString[1])\n",
    "\n",
    "# python jav\n",
    "p = re.compile(\" [A-Z]{2} \")\n",
    "splited = p.split(string)\n",
    "print(splited)"
   ]
  },
  {
   "cell_type": "code",
   "execution_count": 64,
   "metadata": {},
   "outputs": [
    {
     "data": {
      "text/plain": [
       "'801210*10112243'"
      ]
     },
     "execution_count": 64,
     "metadata": {},
     "output_type": "execute_result"
    }
   ],
   "source": [
    "string = \"801210-10112243\"\n",
    "# - =>  * 변경 후 출력\n",
    "\n",
    "string.replace(\"-\",\"*\")"
   ]
  },
  {
   "cell_type": "code",
   "execution_count": 65,
   "metadata": {},
   "outputs": [
    {
     "data": {
      "text/plain": [
       "'801210*10112243'"
      ]
     },
     "execution_count": 65,
     "metadata": {},
     "output_type": "execute_result"
    }
   ],
   "source": [
    "# .sub(타겟패턴, 바꿀패턴, 해당요소)\n",
    "re.sub(\"-\",\"*\",string)"
   ]
  },
  {
   "cell_type": "code",
   "execution_count": 87,
   "metadata": {},
   "outputs": [
    {
     "name": "stdout",
     "output_type": "stream",
     "text": [
      "주민등록번호\n",
      "800215-*******\n",
      "821030-*******\n",
      "841230-*******\n",
      "790903-*******\n",
      "800125-*******\n",
      "820612-*******\n"
     ]
    }
   ],
   "source": [
    "from openpyxl import load_workbook, Workbook\n",
    "\n",
    "# data_kr\n",
    "# 주민등록번호 뒷자리를 ******* 로 바꿔서 출력\n",
    "\n",
    "wb = load_workbook(\"./data_kr.xlsx\")\n",
    "ws = wb.active\n",
    "\n",
    "p = re.compile(\"[0-9]{7}\")\n",
    "\n",
    "for i in ws.rows:\n",
    "    print(re.sub(p,\"*******\",i[1].value))\n"
   ]
  },
  {
   "cell_type": "code",
   "execution_count": 96,
   "metadata": {},
   "outputs": [
    {
     "data": {
      "text/plain": [
       "'아이폰'"
      ]
     },
     "execution_count": 96,
     "metadata": {},
     "output_type": "execute_result"
    }
   ],
   "source": [
    "# 태그제거 후 아이폰 문자 남기기\n",
    "\n",
    "string = \"<b>아이폰</b>\"\n",
    "\n",
    "p = re.compile(\"<.+?>\")\n",
    "re.sub(p,\"\",string)"
   ]
  }
 ],
 "metadata": {
  "kernelspec": {
   "display_name": "venv",
   "language": "python",
   "name": "python3"
  },
  "language_info": {
   "codemirror_mode": {
    "name": "ipython",
    "version": 3
   },
   "file_extension": ".py",
   "mimetype": "text/x-python",
   "name": "python",
   "nbconvert_exporter": "python",
   "pygments_lexer": "ipython3",
   "version": "3.13.1"
  }
 },
 "nbformat": 4,
 "nbformat_minor": 2
}
