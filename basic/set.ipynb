{
 "cells": [
  {
   "cell_type": "markdown",
   "metadata": {},
   "source": [
    "### Set(집합 자료형)\n",
    "- 자바의 set 과 같은 개념\n",
    "- 중복 허용 안됨\n",
    "- 순서의 개념 없음(인덱싱 접근 X)"
   ]
  },
  {
   "cell_type": "code",
   "execution_count": 1,
   "metadata": {},
   "outputs": [
    {
     "name": "stdout",
     "output_type": "stream",
     "text": [
      "set()\n",
      "{1, 2, 3, 4}\n",
      "{1, 2, 3, 4, 5, 6}\n"
     ]
    }
   ],
   "source": [
    "# 생성\n",
    "s1 = set()\n",
    "s2 = set([1,2,3,4])\n",
    "s3 = set([1,2,3,4,5,5,6])\n",
    "\n",
    "print(s1)\n",
    "print(s2)\n",
    "print(s3)"
   ]
  },
  {
   "cell_type": "code",
   "execution_count": 4,
   "metadata": {},
   "outputs": [
    {
     "name": "stdout",
     "output_type": "stream",
     "text": [
      "{4, 5, 6}\n",
      "{4, 5, 6}\n",
      "{1, 2, 3, 4, 5, 6, 7, 8, 9}\n",
      "{1, 2, 3, 4, 5, 6, 7, 8, 9}\n",
      "{1, 2, 3}\n",
      "{1, 2, 3}\n"
     ]
    }
   ],
   "source": [
    "# 교집합(&, intersection), 합집합(|, union), 차집합(-, difference) \n",
    "\n",
    "s4 = set([4,5,6,7,8,9])\n",
    "\n",
    "print(s3 & s4)\n",
    "print(s3.intersection(s4))\n",
    "\n",
    "print(s3 | s4)\n",
    "print(s3.union(s4))\n",
    "\n",
    "print(s3 - s4)\n",
    "print(s3.difference(s4))"
   ]
  },
  {
   "cell_type": "code",
   "execution_count": 6,
   "metadata": {},
   "outputs": [
    {
     "data": {
      "text/plain": [
       "{1}"
      ]
     },
     "execution_count": 6,
     "metadata": {},
     "output_type": "execute_result"
    }
   ],
   "source": [
    "# add() : 1 개만 추가\n",
    "\n",
    "s1.add(1)\n",
    "s1"
   ]
  },
  {
   "cell_type": "code",
   "execution_count": 7,
   "metadata": {},
   "outputs": [
    {
     "data": {
      "text/plain": [
       "{1, 4, 5, 6}"
      ]
     },
     "execution_count": 7,
     "metadata": {},
     "output_type": "execute_result"
    }
   ],
   "source": [
    "# update() : 여러개 추가\n",
    "s1.update([4,5,6])\n",
    "s1"
   ]
  },
  {
   "cell_type": "code",
   "execution_count": 8,
   "metadata": {},
   "outputs": [
    {
     "data": {
      "text/plain": [
       "{1, 5, 6}"
      ]
     },
     "execution_count": 8,
     "metadata": {},
     "output_type": "execute_result"
    }
   ],
   "source": [
    "# remove() : 제거\n",
    "s1.remove(4)\n",
    "s1"
   ]
  },
  {
   "cell_type": "code",
   "execution_count": 11,
   "metadata": {},
   "outputs": [
    {
     "data": {
      "text/plain": [
       "1"
      ]
     },
     "execution_count": 11,
     "metadata": {},
     "output_type": "execute_result"
    }
   ],
   "source": [
    "# s1[0]  TypeError: 'set' object is not subscriptable\n",
    "\n",
    "list1 = list(s1)\n",
    "list1[0]"
   ]
  },
  {
   "cell_type": "code",
   "execution_count": 26,
   "metadata": {},
   "outputs": [
    {
     "name": "stdout",
     "output_type": "stream",
     "text": [
      "python need interpreter\n",
      "  perl need interpreter\n",
      "     c need compiler\n",
      "  java need compiler\n",
      "2b67 40000보다 작은 수 16진수 출력\n",
      "337d 40000보다 작은 수 16진수 출력\n",
      "146436 40000보다 큰 수 8진수 출력\n",
      "136541 40000보다 큰 수 8진수 출력\n"
     ]
    }
   ],
   "source": [
    "languages = ['python','perl','c','java']\n",
    "\n",
    "for lang in languages:\n",
    "    if lang in ['python','perl']:\n",
    "        print(\"%6s need interpreter\" % lang)\n",
    "    elif lang in ['c','java']:\n",
    "        print(\"%6s need compiler\" % lang)\n",
    "    else:\n",
    "        print(\"should not reach here\")\n",
    "\n",
    "\n",
    "tNum = [11111,13181,52510,48481]\n",
    "\n",
    "for nums in tNum:\n",
    "    if nums > 40000:\n",
    "        print(\"%4o 40000보다 큰 수 8진수 출력\" % nums)\n",
    "    elif nums < 40000:\n",
    "        print(\"%4x 40000보다 작은 수 16진수 출력\" % nums)\n",
    "    else:\n",
    "        print(\"포함되지 않음\")\n"
   ]
  },
  {
   "cell_type": "code",
   "execution_count": 1,
   "metadata": {},
   "outputs": [
    {
     "data": {
      "text/plain": [
       "'play'"
      ]
     },
     "execution_count": 1,
     "metadata": {},
     "output_type": "execute_result"
    }
   ],
   "source": [
    "import random\n",
    "\n",
    "list1 = ['test','word','play']\n",
    "# 리스트 내용 섞기\n",
    "random.shuffle(list1)\n",
    "# 임의 추출\n",
    "random.choice(list1)"
   ]
  }
 ],
 "metadata": {
  "kernelspec": {
   "display_name": "venv",
   "language": "python",
   "name": "python3"
  },
  "language_info": {
   "codemirror_mode": {
    "name": "ipython",
    "version": 3
   },
   "file_extension": ".py",
   "mimetype": "text/x-python",
   "name": "python",
   "nbconvert_exporter": "python",
   "pygments_lexer": "ipython3",
   "version": "3.13.1"
  }
 },
 "nbformat": 4,
 "nbformat_minor": 2
}
