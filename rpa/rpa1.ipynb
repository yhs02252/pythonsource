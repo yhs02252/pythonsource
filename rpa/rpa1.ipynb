{
 "cells": [
  {
   "cell_type": "markdown",
   "metadata": {},
   "source": [
    "# RPA(Robotic Process Automation) : 자동화 프로그램\n",
    "#### ex) 엑셀자동화 프로그램\n",
    "- 엑셀 라이브러리 : pip install openpyxl\n",
    "- 이미지 삽입 : pip install pillow"
   ]
  },
  {
   "cell_type": "code",
   "execution_count": null,
   "metadata": {},
   "outputs": [],
   "source": [
    "# RPA(Robotic Process Automation) : 자동화 프로그램\n",
    "# ex) 엑셀자동화 프로그램\n",
    "# 엑셀 라이브러리 : pip install openpyxl\n",
    "# 이미지 삽입 : pip install pillow\n",
    "\n",
    "# 엑셀 파일 생성 가능\n",
    "from openpyxl import Workbook\n",
    "\n",
    "# wb 객체 생성\n",
    "wb = Workbook()\n",
    "\n",
    "# 현재 활성화된 시트 가져오기\n",
    "ws = wb.active\n",
    "ws.title= \"Sheet7\"\n",
    "\n",
    "# 새로운 시트 생성\n",
    "ws1 = wb.create_sheet(title=\"MySheet\")\n",
    "ws1[\"A1\"] = \"Test\"\n",
    "\n",
    "# index 지정 시트 생성\n",
    "ws2 = wb.create_sheet(title=\"급여명세\", index=2)\n",
    "\n",
    "# 시트 복제\n",
    "ws3 = wb.copy_worksheet(ws1)\n",
    "ws3.title= \"Copied Sheet\"\n",
    "\n",
    "wb.save(\"./sample1.xlsx\")\n",
    "wb.close()\n"
   ]
  },
  {
   "cell_type": "code",
   "execution_count": 10,
   "metadata": {},
   "outputs": [
    {
     "name": "stdout",
     "output_type": "stream",
     "text": [
      "<Cell 'Sheet'.A3>\n",
      "3\n",
      "1\n",
      "4\n"
     ]
    }
   ],
   "source": [
    "wb = Workbook()\n",
    "\n",
    "ws = wb.active\n",
    "\n",
    "# A1=1, A2=2, A3=3, B1=4, B2=5,B3=6\n",
    "ws[\"A1\"] = 1\n",
    "ws[\"A2\"] = 2\n",
    "ws[\"A3\"] = 3\n",
    "ws[\"B1\"] = 4\n",
    "ws[\"B2\"] = 5\n",
    "ws[\"B3\"] = 6\n",
    "ws.cell(1,3,10) # == ws[\"C1\"]\n",
    "\n",
    "# 셀 정보 출력\n",
    "print(ws[\"A3\"])\n",
    "# 셀 내용 출력\n",
    "print(ws[\"A3\"].value)\n",
    "print(ws.cell(1,1).value) # == ws[\"A1\"]\n",
    "print(ws.cell(1,2).value) # == ws[\"B1\"]\n",
    "\n",
    "wb.save(\"./sample1.xlsx\")\n",
    "wb.close()"
   ]
  },
  {
   "cell_type": "code",
   "execution_count": null,
   "metadata": {},
   "outputs": [],
   "source": [
    "import random\n",
    "\n",
    "wb = Workbook()\n",
    "\n",
    "ws = wb.active\n",
    "\n",
    "# 셀 내용 삽입\n",
    "for x in range(1,11):\n",
    "    for y in range(1,11):\n",
    "        ws.cell(x,y,random.randint(0,100))\n",
    "\n",
    "\n",
    "wb.save(\"./sample1.xlsx\")\n",
    "wb.close()"
   ]
  },
  {
   "cell_type": "code",
   "execution_count": 14,
   "metadata": {},
   "outputs": [
    {
     "name": "stdout",
     "output_type": "stream",
     "text": [
      "72 31 51 44 66 66 22 28 9 81 \n",
      "10 36 79 43 0 7 26 20 93 40 \n",
      "42 46 82 55 87 11 70 3 60 76 \n",
      "39 25 8 73 94 99 53 51 85 8 \n",
      "22 80 86 53 12 99 41 12 11 45 \n",
      "40 69 62 65 23 78 9 60 0 51 \n",
      "63 37 56 52 100 24 89 7 46 60 \n",
      "75 18 55 14 22 94 36 89 68 83 \n",
      "24 82 85 74 99 35 3 38 22 85 \n",
      "68 11 91 39 17 28 41 52 63 35 \n"
     ]
    }
   ],
   "source": [
    "from openpyxl import load_workbook\n",
    "\n",
    "\n",
    "wb = load_workbook(\"./sample1.xlsx\")\n",
    "ws = wb.active\n",
    "\n",
    "# 셀 내용 가져오기\n",
    "\n",
    "for x in range(1,11):\n",
    "    for y in range(1,11):\n",
    "        print(ws.cell(x,y).value, end=\" \")\n",
    "    print()\n",
    "\n",
    "wb.close()\n"
   ]
  },
  {
   "cell_type": "code",
   "execution_count": 15,
   "metadata": {},
   "outputs": [
    {
     "name": "stdout",
     "output_type": "stream",
     "text": [
      "영어\n",
      "74\n",
      "28\n",
      "47\n",
      "73\n",
      "2\n",
      "96\n",
      "64\n",
      "98\n",
      "50\n",
      "28\n"
     ]
    }
   ],
   "source": [
    "from openpyxl import load_workbook,Workbook\n",
    "import random\n",
    "\n",
    "wb = Workbook()\n",
    "ws = wb.active\n",
    "\n",
    "# 셀 내용 삽입(행 단위로)\n",
    "ws.append([\"번호\", \"영어\", \"수학\"])\n",
    "for x in range(1,11):\n",
    "    ws.append([x,random.randint(1,100), random.randint(1,100)])\n",
    "\n",
    "# 영어 컬럼 조회\n",
    "# print(ws[\"B\"])\n",
    "for cell in ws[\"B\"]:\n",
    "    print(cell.value)\n",
    "\n",
    "wb.save(\"./range.xlsx\")\n",
    "wb.close()"
   ]
  },
  {
   "cell_type": "code",
   "execution_count": 24,
   "metadata": {},
   "outputs": [
    {
     "name": "stdout",
     "output_type": "stream",
     "text": [
      "6 번 학생 영어점수 : 96\n",
      "8 번 학생 영어점수 : 98\n"
     ]
    }
   ],
   "source": [
    "wb = load_workbook(\"./range.xlsx\")\n",
    "\n",
    "# 영어 컬럼 조회\n",
    "# for cell in ws[\"B\"]:\n",
    "#     print(cell.value)\n",
    "\n",
    "# 영어, 수학 컬럼 조회(열 기준)\n",
    "# cols = ws[\"B:C\"]\n",
    "# for col in cols:\n",
    "#     for cell in col:\n",
    "#         print(cell.value, end=\" \")\n",
    "#     print()\n",
    "\n",
    "# 1행 조회(행 기준)\n",
    "# rows = ws[1]\n",
    "# for cell in rows:\n",
    "#     print(cell.value)\n",
    "\n",
    "# 2행~6행 조회(행 기준)\n",
    "# rows = ws[2:6]\n",
    "# for row in rows:\n",
    "#     for cell in row:\n",
    "#         print(cell.value, end=\" \")\n",
    "#     print()\n",
    "\n",
    "# max_row : 마지막 행\n",
    "# max_column : 마지막 열\n",
    "# rows = ws[2:ws.max_row]\n",
    "# for row in rows:\n",
    "#     for cell in row:\n",
    "#         print(cell.value, end=\" \")\n",
    "#     print()\n",
    "\n",
    "# 전체 rows 가져오기\n",
    "# for row in ws.iter_rows():\n",
    "#     print(row[2].value)\n",
    "\n",
    "# for col in ws.iter_cols():\n",
    "#     print(col[2].value)\n",
    "\n",
    "# 2번 행 부터 가져오기\n",
    "for row in ws.iter_rows(min_row=2):\n",
    "    if row[1].value > 80 :\n",
    "        print(f\"{row[0].value} 번 학생 영어점수 : {row[1].value}\")\n",
    "\n",
    "wb.close()"
   ]
  },
  {
   "cell_type": "code",
   "execution_count": 28,
   "metadata": {},
   "outputs": [],
   "source": [
    "wb = load_workbook(\"./range.xlsx\")\n",
    "ws = wb.active\n",
    "\n",
    "# 행, 열 삽입\n",
    "# ws.insert_rows(8)\n",
    "ws.insert_rows(8,5)\n",
    "ws.insert_cols(2,3)\n",
    "\n",
    "wb.save(\"./range_insert.xlsx\")\n",
    "wb.close()"
   ]
  },
  {
   "cell_type": "code",
   "execution_count": 30,
   "metadata": {},
   "outputs": [],
   "source": [
    "wb = load_workbook(\"./range.xlsx\")\n",
    "ws = wb.active\n",
    "\n",
    "# 행,열 삭제\n",
    "ws.delete_rows(8)\n",
    "ws.delete_cols(1,2)\n",
    "\n",
    "wb.save(\"./range_insert.xlsx\")\n",
    "wb.close()"
   ]
  },
  {
   "cell_type": "code",
   "execution_count": 31,
   "metadata": {},
   "outputs": [],
   "source": [
    "wb = load_workbook(\"./range.xlsx\")\n",
    "ws = wb.active\n",
    "\n",
    "# 셀 이동\n",
    "ws.move_range(\"B1:C11\", rows = 0, cols=1)\n",
    "ws.cell(row=1, column=2).value= \"국어\"\n",
    "\n",
    "wb.save(\"./range_move.xlsx\")\n",
    "wb.close()"
   ]
  },
  {
   "cell_type": "code",
   "execution_count": 38,
   "metadata": {},
   "outputs": [],
   "source": [
    "from openpyxl.chart import BarChart, Reference, LineChart\n",
    "\n",
    "wb = load_workbook(\"./range.xlsx\")\n",
    "ws = wb.active\n",
    "\n",
    "# # 막대 차트\n",
    "# bar_chart = BarChart()\n",
    "# # 차트 번호 지정\n",
    "# bar_value = Reference(ws, min_row=2,max_row=11, min_col=2,max_col=3)\n",
    "# # 차트에 데이터 넣기\n",
    "# bar_chart.add_data(bar_value)\n",
    "# # 차트 위치 지정\n",
    "# ws.add_chart(bar_chart, \"E1\")\n",
    "\n",
    "\n",
    "# 라인 차트\n",
    "line_chart = LineChart()\n",
    "# 차트 번호 지정\n",
    "line_value = Reference(ws, min_row=2,max_row=11, min_col=2,max_col=3)\n",
    "# 차트에 데이터 넣기\n",
    "line_chart.add_data(line_value)\n",
    "\n",
    "# 차트 상세 설정\n",
    "line_chart.title = \"성적표\"\n",
    "line_chart.style = 20\n",
    "line_chart.y_axis.title = \"점수\"\n",
    "line_chart.x_axis.title = \"번호\"\n",
    "\n",
    "# 차트 위치 지정\n",
    "ws.add_chart(line_chart, \"E1\")\n",
    "\n",
    "wb.save(\"./range_chart.xlsx\")\n",
    "wb.close()"
   ]
  }
 ],
 "metadata": {
  "kernelspec": {
   "display_name": "venv",
   "language": "python",
   "name": "python3"
  },
  "language_info": {
   "codemirror_mode": {
    "name": "ipython",
    "version": 3
   },
   "file_extension": ".py",
   "mimetype": "text/x-python",
   "name": "python",
   "nbconvert_exporter": "python",
   "pygments_lexer": "ipython3",
   "version": "3.13.1"
  }
 },
 "nbformat": 4,
 "nbformat_minor": 2
}
